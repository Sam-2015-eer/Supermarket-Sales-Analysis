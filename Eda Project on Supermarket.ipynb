{
 "cells": [
  {
   "cell_type": "markdown",
   "id": "906e4577",
   "metadata": {},
   "source": [
    "# EdA Project on Supermarket Sales dataset "
   ]
  },
  {
   "cell_type": "code",
   "execution_count": 1,
   "id": "702a57ee",
   "metadata": {},
   "outputs": [],
   "source": [
    "#importing required libraries and I set the style as darkgrid in seaborn\n",
    "import pandas as pd                   #DataFrame\n",
    "import numpy as np                    #Mathsops.\n",
    "import matplotlib.pyplot as plt       #visualization\n",
    "import seaborn as sns                 #visualization\n",
    "import pingouin as pg                 #to calculate normality \n",
    "sns.set_theme(style=\"darkgrid\")\n"
   ]
  },
  {
   "cell_type": "code",
   "execution_count": 2,
   "id": "44d50bee",
   "metadata": {},
   "outputs": [
    {
     "name": "stderr",
     "output_type": "stream",
     "text": [
      "C:\\Users\\samee\\anaconda3\\lib\\site-packages\\outdated\\utils.py:14: OutdatedPackageWarning: The package pingouin is out of date. Your version is 0.4.0, the latest is 0.5.0.\n",
      "Set the environment variable OUTDATED_IGNORE=1 to disable these warnings.\n",
      "  return warn(\n"
     ]
    },
    {
     "data": {
      "text/html": [
       "<div>\n",
       "<style scoped>\n",
       "    .dataframe tbody tr th:only-of-type {\n",
       "        vertical-align: middle;\n",
       "    }\n",
       "\n",
       "    .dataframe tbody tr th {\n",
       "        vertical-align: top;\n",
       "    }\n",
       "\n",
       "    .dataframe thead th {\n",
       "        text-align: right;\n",
       "    }\n",
       "</style>\n",
       "<table border=\"1\" class=\"dataframe\">\n",
       "  <thead>\n",
       "    <tr style=\"text-align: right;\">\n",
       "      <th></th>\n",
       "      <th>Invoice ID</th>\n",
       "      <th>Branch</th>\n",
       "      <th>City</th>\n",
       "      <th>Customer type</th>\n",
       "      <th>Gender</th>\n",
       "      <th>Product line</th>\n",
       "      <th>Unit price</th>\n",
       "      <th>Quantity</th>\n",
       "      <th>Tax 5%</th>\n",
       "      <th>Total</th>\n",
       "      <th>Date</th>\n",
       "      <th>Time</th>\n",
       "      <th>Payment</th>\n",
       "      <th>cogs</th>\n",
       "      <th>gross margin percentage</th>\n",
       "      <th>gross income</th>\n",
       "      <th>Rating</th>\n",
       "    </tr>\n",
       "  </thead>\n",
       "  <tbody>\n",
       "    <tr>\n",
       "      <th>0</th>\n",
       "      <td>750-67-8428</td>\n",
       "      <td>A</td>\n",
       "      <td>Yangon</td>\n",
       "      <td>Member</td>\n",
       "      <td>Female</td>\n",
       "      <td>Health and beauty</td>\n",
       "      <td>74.69</td>\n",
       "      <td>7</td>\n",
       "      <td>26.1415</td>\n",
       "      <td>548.9715</td>\n",
       "      <td>1/5/2019</td>\n",
       "      <td>13:08</td>\n",
       "      <td>Ewallet</td>\n",
       "      <td>522.83</td>\n",
       "      <td>4.761905</td>\n",
       "      <td>26.1415</td>\n",
       "      <td>9.1</td>\n",
       "    </tr>\n",
       "    <tr>\n",
       "      <th>1</th>\n",
       "      <td>226-31-3081</td>\n",
       "      <td>C</td>\n",
       "      <td>Naypyitaw</td>\n",
       "      <td>Normal</td>\n",
       "      <td>Female</td>\n",
       "      <td>Electronic accessories</td>\n",
       "      <td>15.28</td>\n",
       "      <td>5</td>\n",
       "      <td>3.8200</td>\n",
       "      <td>80.2200</td>\n",
       "      <td>3/8/2019</td>\n",
       "      <td>10:29</td>\n",
       "      <td>Cash</td>\n",
       "      <td>76.40</td>\n",
       "      <td>4.761905</td>\n",
       "      <td>3.8200</td>\n",
       "      <td>9.6</td>\n",
       "    </tr>\n",
       "    <tr>\n",
       "      <th>2</th>\n",
       "      <td>631-41-3108</td>\n",
       "      <td>A</td>\n",
       "      <td>Yangon</td>\n",
       "      <td>Normal</td>\n",
       "      <td>Male</td>\n",
       "      <td>Home and lifestyle</td>\n",
       "      <td>46.33</td>\n",
       "      <td>7</td>\n",
       "      <td>16.2155</td>\n",
       "      <td>340.5255</td>\n",
       "      <td>3/3/2019</td>\n",
       "      <td>13:23</td>\n",
       "      <td>Credit card</td>\n",
       "      <td>324.31</td>\n",
       "      <td>4.761905</td>\n",
       "      <td>16.2155</td>\n",
       "      <td>7.4</td>\n",
       "    </tr>\n",
       "    <tr>\n",
       "      <th>3</th>\n",
       "      <td>123-19-1176</td>\n",
       "      <td>A</td>\n",
       "      <td>Yangon</td>\n",
       "      <td>Member</td>\n",
       "      <td>Male</td>\n",
       "      <td>Health and beauty</td>\n",
       "      <td>58.22</td>\n",
       "      <td>8</td>\n",
       "      <td>23.2880</td>\n",
       "      <td>489.0480</td>\n",
       "      <td>1/27/2019</td>\n",
       "      <td>20:33</td>\n",
       "      <td>Ewallet</td>\n",
       "      <td>465.76</td>\n",
       "      <td>4.761905</td>\n",
       "      <td>23.2880</td>\n",
       "      <td>8.4</td>\n",
       "    </tr>\n",
       "    <tr>\n",
       "      <th>4</th>\n",
       "      <td>373-73-7910</td>\n",
       "      <td>A</td>\n",
       "      <td>Yangon</td>\n",
       "      <td>Normal</td>\n",
       "      <td>Male</td>\n",
       "      <td>Sports and travel</td>\n",
       "      <td>86.31</td>\n",
       "      <td>7</td>\n",
       "      <td>30.2085</td>\n",
       "      <td>634.3785</td>\n",
       "      <td>2/8/2019</td>\n",
       "      <td>10:37</td>\n",
       "      <td>Ewallet</td>\n",
       "      <td>604.17</td>\n",
       "      <td>4.761905</td>\n",
       "      <td>30.2085</td>\n",
       "      <td>5.3</td>\n",
       "    </tr>\n",
       "    <tr>\n",
       "      <th>...</th>\n",
       "      <td>...</td>\n",
       "      <td>...</td>\n",
       "      <td>...</td>\n",
       "      <td>...</td>\n",
       "      <td>...</td>\n",
       "      <td>...</td>\n",
       "      <td>...</td>\n",
       "      <td>...</td>\n",
       "      <td>...</td>\n",
       "      <td>...</td>\n",
       "      <td>...</td>\n",
       "      <td>...</td>\n",
       "      <td>...</td>\n",
       "      <td>...</td>\n",
       "      <td>...</td>\n",
       "      <td>...</td>\n",
       "      <td>...</td>\n",
       "    </tr>\n",
       "    <tr>\n",
       "      <th>995</th>\n",
       "      <td>233-67-5758</td>\n",
       "      <td>C</td>\n",
       "      <td>Naypyitaw</td>\n",
       "      <td>Normal</td>\n",
       "      <td>Male</td>\n",
       "      <td>Health and beauty</td>\n",
       "      <td>40.35</td>\n",
       "      <td>1</td>\n",
       "      <td>2.0175</td>\n",
       "      <td>42.3675</td>\n",
       "      <td>1/29/2019</td>\n",
       "      <td>13:46</td>\n",
       "      <td>Ewallet</td>\n",
       "      <td>40.35</td>\n",
       "      <td>4.761905</td>\n",
       "      <td>2.0175</td>\n",
       "      <td>6.2</td>\n",
       "    </tr>\n",
       "    <tr>\n",
       "      <th>996</th>\n",
       "      <td>303-96-2227</td>\n",
       "      <td>B</td>\n",
       "      <td>Mandalay</td>\n",
       "      <td>Normal</td>\n",
       "      <td>Female</td>\n",
       "      <td>Home and lifestyle</td>\n",
       "      <td>97.38</td>\n",
       "      <td>10</td>\n",
       "      <td>48.6900</td>\n",
       "      <td>1022.4900</td>\n",
       "      <td>3/2/2019</td>\n",
       "      <td>17:16</td>\n",
       "      <td>Ewallet</td>\n",
       "      <td>973.80</td>\n",
       "      <td>4.761905</td>\n",
       "      <td>48.6900</td>\n",
       "      <td>4.4</td>\n",
       "    </tr>\n",
       "    <tr>\n",
       "      <th>997</th>\n",
       "      <td>727-02-1313</td>\n",
       "      <td>A</td>\n",
       "      <td>Yangon</td>\n",
       "      <td>Member</td>\n",
       "      <td>Male</td>\n",
       "      <td>Food and beverages</td>\n",
       "      <td>31.84</td>\n",
       "      <td>1</td>\n",
       "      <td>1.5920</td>\n",
       "      <td>33.4320</td>\n",
       "      <td>2/9/2019</td>\n",
       "      <td>13:22</td>\n",
       "      <td>Cash</td>\n",
       "      <td>31.84</td>\n",
       "      <td>4.761905</td>\n",
       "      <td>1.5920</td>\n",
       "      <td>7.7</td>\n",
       "    </tr>\n",
       "    <tr>\n",
       "      <th>998</th>\n",
       "      <td>347-56-2442</td>\n",
       "      <td>A</td>\n",
       "      <td>Yangon</td>\n",
       "      <td>Normal</td>\n",
       "      <td>Male</td>\n",
       "      <td>Home and lifestyle</td>\n",
       "      <td>65.82</td>\n",
       "      <td>1</td>\n",
       "      <td>3.2910</td>\n",
       "      <td>69.1110</td>\n",
       "      <td>2/22/2019</td>\n",
       "      <td>15:33</td>\n",
       "      <td>Cash</td>\n",
       "      <td>65.82</td>\n",
       "      <td>4.761905</td>\n",
       "      <td>3.2910</td>\n",
       "      <td>4.1</td>\n",
       "    </tr>\n",
       "    <tr>\n",
       "      <th>999</th>\n",
       "      <td>849-09-3807</td>\n",
       "      <td>A</td>\n",
       "      <td>Yangon</td>\n",
       "      <td>Member</td>\n",
       "      <td>Female</td>\n",
       "      <td>Fashion accessories</td>\n",
       "      <td>88.34</td>\n",
       "      <td>7</td>\n",
       "      <td>30.9190</td>\n",
       "      <td>649.2990</td>\n",
       "      <td>2/18/2019</td>\n",
       "      <td>13:28</td>\n",
       "      <td>Cash</td>\n",
       "      <td>618.38</td>\n",
       "      <td>4.761905</td>\n",
       "      <td>30.9190</td>\n",
       "      <td>6.6</td>\n",
       "    </tr>\n",
       "  </tbody>\n",
       "</table>\n",
       "<p>1000 rows × 17 columns</p>\n",
       "</div>"
      ],
      "text/plain": [
       "      Invoice ID Branch       City Customer type  Gender  \\\n",
       "0    750-67-8428      A     Yangon        Member  Female   \n",
       "1    226-31-3081      C  Naypyitaw        Normal  Female   \n",
       "2    631-41-3108      A     Yangon        Normal    Male   \n",
       "3    123-19-1176      A     Yangon        Member    Male   \n",
       "4    373-73-7910      A     Yangon        Normal    Male   \n",
       "..           ...    ...        ...           ...     ...   \n",
       "995  233-67-5758      C  Naypyitaw        Normal    Male   \n",
       "996  303-96-2227      B   Mandalay        Normal  Female   \n",
       "997  727-02-1313      A     Yangon        Member    Male   \n",
       "998  347-56-2442      A     Yangon        Normal    Male   \n",
       "999  849-09-3807      A     Yangon        Member  Female   \n",
       "\n",
       "               Product line  Unit price  Quantity   Tax 5%      Total  \\\n",
       "0         Health and beauty       74.69         7  26.1415   548.9715   \n",
       "1    Electronic accessories       15.28         5   3.8200    80.2200   \n",
       "2        Home and lifestyle       46.33         7  16.2155   340.5255   \n",
       "3         Health and beauty       58.22         8  23.2880   489.0480   \n",
       "4         Sports and travel       86.31         7  30.2085   634.3785   \n",
       "..                      ...         ...       ...      ...        ...   \n",
       "995       Health and beauty       40.35         1   2.0175    42.3675   \n",
       "996      Home and lifestyle       97.38        10  48.6900  1022.4900   \n",
       "997      Food and beverages       31.84         1   1.5920    33.4320   \n",
       "998      Home and lifestyle       65.82         1   3.2910    69.1110   \n",
       "999     Fashion accessories       88.34         7  30.9190   649.2990   \n",
       "\n",
       "          Date   Time      Payment    cogs  gross margin percentage  \\\n",
       "0     1/5/2019  13:08      Ewallet  522.83                 4.761905   \n",
       "1     3/8/2019  10:29         Cash   76.40                 4.761905   \n",
       "2     3/3/2019  13:23  Credit card  324.31                 4.761905   \n",
       "3    1/27/2019  20:33      Ewallet  465.76                 4.761905   \n",
       "4     2/8/2019  10:37      Ewallet  604.17                 4.761905   \n",
       "..         ...    ...          ...     ...                      ...   \n",
       "995  1/29/2019  13:46      Ewallet   40.35                 4.761905   \n",
       "996   3/2/2019  17:16      Ewallet  973.80                 4.761905   \n",
       "997   2/9/2019  13:22         Cash   31.84                 4.761905   \n",
       "998  2/22/2019  15:33         Cash   65.82                 4.761905   \n",
       "999  2/18/2019  13:28         Cash  618.38                 4.761905   \n",
       "\n",
       "     gross income  Rating  \n",
       "0         26.1415     9.1  \n",
       "1          3.8200     9.6  \n",
       "2         16.2155     7.4  \n",
       "3         23.2880     8.4  \n",
       "4         30.2085     5.3  \n",
       "..            ...     ...  \n",
       "995        2.0175     6.2  \n",
       "996       48.6900     4.4  \n",
       "997        1.5920     7.7  \n",
       "998        3.2910     4.1  \n",
       "999       30.9190     6.6  \n",
       "\n",
       "[1000 rows x 17 columns]"
      ]
     },
     "execution_count": 2,
     "metadata": {},
     "output_type": "execute_result"
    }
   ],
   "source": [
    "df=pd.read_csv(\"supermarketsales.csv\") #reads out our csv file and create a dataframe for it using pandas and store it as df\n",
    "df                                     #view of our dataframe "
   ]
  },
  {
   "cell_type": "markdown",
   "id": "dc1739bf",
   "metadata": {},
   "source": [
    "# Part-1: Complete all the basic exploratory steps."
   ]
  },
  {
   "cell_type": "markdown",
   "id": "809c07e6",
   "metadata": {},
   "source": [
    "#### Column name in our dataset?"
   ]
  },
  {
   "cell_type": "code",
   "execution_count": 3,
   "id": "63db88ac",
   "metadata": {},
   "outputs": [
    {
     "data": {
      "text/plain": [
       "Index(['Invoice ID', 'Branch', 'City', 'Customer type', 'Gender',\n",
       "       'Product line', 'Unit price', 'Quantity', 'Tax 5%', 'Total', 'Date',\n",
       "       'Time', 'Payment', 'cogs', 'gross margin percentage', 'gross income',\n",
       "       'Rating'],\n",
       "      dtype='object')"
      ]
     },
     "execution_count": 3,
     "metadata": {},
     "output_type": "execute_result"
    }
   ],
   "source": [
    "df.columns                   #returns all column name in the dataframe"
   ]
  },
  {
   "cell_type": "markdown",
   "id": "8d1cd471",
   "metadata": {},
   "source": [
    "#### Shape and Size of the dataset "
   ]
  },
  {
   "cell_type": "code",
   "execution_count": 4,
   "id": "39a11ac5",
   "metadata": {},
   "outputs": [
    {
     "data": {
      "text/plain": [
       "(1000, 17)"
      ]
     },
     "execution_count": 4,
     "metadata": {},
     "output_type": "execute_result"
    }
   ],
   "source": [
    "df.shape                    #shape returns total rows and columns"
   ]
  },
  {
   "cell_type": "code",
   "execution_count": 5,
   "id": "c760000f",
   "metadata": {},
   "outputs": [
    {
     "data": {
      "text/plain": [
       "17000"
      ]
     },
     "execution_count": 5,
     "metadata": {},
     "output_type": "execute_result"
    }
   ],
   "source": [
    "df.size                     #size returns total number of elements in it"
   ]
  },
  {
   "cell_type": "markdown",
   "id": "69332d28",
   "metadata": {},
   "source": [
    "#### we check null values present in our dataset "
   ]
  },
  {
   "cell_type": "code",
   "execution_count": 6,
   "id": "a7e4a947",
   "metadata": {},
   "outputs": [
    {
     "data": {
      "text/plain": [
       "Invoice ID                 0\n",
       "Branch                     0\n",
       "City                       0\n",
       "Customer type              0\n",
       "Gender                     0\n",
       "Product line               0\n",
       "Unit price                 0\n",
       "Quantity                   0\n",
       "Tax 5%                     0\n",
       "Total                      0\n",
       "Date                       0\n",
       "Time                       0\n",
       "Payment                    0\n",
       "cogs                       0\n",
       "gross margin percentage    0\n",
       "gross income               0\n",
       "Rating                     0\n",
       "dtype: int64"
      ]
     },
     "execution_count": 6,
     "metadata": {},
     "output_type": "execute_result"
    }
   ],
   "source": [
    "df.isnull().sum()           #using isnull() and sum() we can calculate total null entries of each feature\n",
    "                            #inference:No null values are present"
   ]
  },
  {
   "cell_type": "markdown",
   "id": "a2711c45",
   "metadata": {},
   "source": [
    "#### we want the Information of the dataframe df "
   ]
  },
  {
   "cell_type": "code",
   "execution_count": 7,
   "id": "51c04289",
   "metadata": {},
   "outputs": [
    {
     "name": "stdout",
     "output_type": "stream",
     "text": [
      "<class 'pandas.core.frame.DataFrame'>\n",
      "RangeIndex: 1000 entries, 0 to 999\n",
      "Data columns (total 17 columns):\n",
      " #   Column                   Non-Null Count  Dtype  \n",
      "---  ------                   --------------  -----  \n",
      " 0   Invoice ID               1000 non-null   object \n",
      " 1   Branch                   1000 non-null   object \n",
      " 2   City                     1000 non-null   object \n",
      " 3   Customer type            1000 non-null   object \n",
      " 4   Gender                   1000 non-null   object \n",
      " 5   Product line             1000 non-null   object \n",
      " 6   Unit price               1000 non-null   float64\n",
      " 7   Quantity                 1000 non-null   int64  \n",
      " 8   Tax 5%                   1000 non-null   float64\n",
      " 9   Total                    1000 non-null   float64\n",
      " 10  Date                     1000 non-null   object \n",
      " 11  Time                     1000 non-null   object \n",
      " 12  Payment                  1000 non-null   object \n",
      " 13  cogs                     1000 non-null   float64\n",
      " 14  gross margin percentage  1000 non-null   float64\n",
      " 15  gross income             1000 non-null   float64\n",
      " 16  Rating                   1000 non-null   float64\n",
      "dtypes: float64(7), int64(1), object(9)\n",
      "memory usage: 132.9+ KB\n"
     ]
    }
   ],
   "source": [
    "df.info()                    #inference:we can have datatypes of each column,range index and 'memory usage' of our dataframe"
   ]
  },
  {
   "cell_type": "markdown",
   "id": "5fe3add1",
   "metadata": {},
   "source": [
    "#### To know the statistical view of the dataset  "
   ]
  },
  {
   "cell_type": "code",
   "execution_count": 8,
   "id": "e39e2c7c",
   "metadata": {},
   "outputs": [
    {
     "data": {
      "text/html": [
       "<div>\n",
       "<style scoped>\n",
       "    .dataframe tbody tr th:only-of-type {\n",
       "        vertical-align: middle;\n",
       "    }\n",
       "\n",
       "    .dataframe tbody tr th {\n",
       "        vertical-align: top;\n",
       "    }\n",
       "\n",
       "    .dataframe thead th {\n",
       "        text-align: right;\n",
       "    }\n",
       "</style>\n",
       "<table border=\"1\" class=\"dataframe\">\n",
       "  <thead>\n",
       "    <tr style=\"text-align: right;\">\n",
       "      <th></th>\n",
       "      <th>Unit price</th>\n",
       "      <th>Quantity</th>\n",
       "      <th>Tax 5%</th>\n",
       "      <th>Total</th>\n",
       "      <th>cogs</th>\n",
       "      <th>gross margin percentage</th>\n",
       "      <th>gross income</th>\n",
       "      <th>Rating</th>\n",
       "    </tr>\n",
       "  </thead>\n",
       "  <tbody>\n",
       "    <tr>\n",
       "      <th>count</th>\n",
       "      <td>1000.000000</td>\n",
       "      <td>1000.000000</td>\n",
       "      <td>1000.000000</td>\n",
       "      <td>1000.000000</td>\n",
       "      <td>1000.00000</td>\n",
       "      <td>1.000000e+03</td>\n",
       "      <td>1000.000000</td>\n",
       "      <td>1000.00000</td>\n",
       "    </tr>\n",
       "    <tr>\n",
       "      <th>mean</th>\n",
       "      <td>55.672130</td>\n",
       "      <td>5.510000</td>\n",
       "      <td>15.379369</td>\n",
       "      <td>322.966749</td>\n",
       "      <td>307.58738</td>\n",
       "      <td>4.761905e+00</td>\n",
       "      <td>15.379369</td>\n",
       "      <td>6.97270</td>\n",
       "    </tr>\n",
       "    <tr>\n",
       "      <th>std</th>\n",
       "      <td>26.494628</td>\n",
       "      <td>2.923431</td>\n",
       "      <td>11.708825</td>\n",
       "      <td>245.885335</td>\n",
       "      <td>234.17651</td>\n",
       "      <td>6.131498e-14</td>\n",
       "      <td>11.708825</td>\n",
       "      <td>1.71858</td>\n",
       "    </tr>\n",
       "    <tr>\n",
       "      <th>min</th>\n",
       "      <td>10.080000</td>\n",
       "      <td>1.000000</td>\n",
       "      <td>0.508500</td>\n",
       "      <td>10.678500</td>\n",
       "      <td>10.17000</td>\n",
       "      <td>4.761905e+00</td>\n",
       "      <td>0.508500</td>\n",
       "      <td>4.00000</td>\n",
       "    </tr>\n",
       "    <tr>\n",
       "      <th>25%</th>\n",
       "      <td>32.875000</td>\n",
       "      <td>3.000000</td>\n",
       "      <td>5.924875</td>\n",
       "      <td>124.422375</td>\n",
       "      <td>118.49750</td>\n",
       "      <td>4.761905e+00</td>\n",
       "      <td>5.924875</td>\n",
       "      <td>5.50000</td>\n",
       "    </tr>\n",
       "    <tr>\n",
       "      <th>50%</th>\n",
       "      <td>55.230000</td>\n",
       "      <td>5.000000</td>\n",
       "      <td>12.088000</td>\n",
       "      <td>253.848000</td>\n",
       "      <td>241.76000</td>\n",
       "      <td>4.761905e+00</td>\n",
       "      <td>12.088000</td>\n",
       "      <td>7.00000</td>\n",
       "    </tr>\n",
       "    <tr>\n",
       "      <th>75%</th>\n",
       "      <td>77.935000</td>\n",
       "      <td>8.000000</td>\n",
       "      <td>22.445250</td>\n",
       "      <td>471.350250</td>\n",
       "      <td>448.90500</td>\n",
       "      <td>4.761905e+00</td>\n",
       "      <td>22.445250</td>\n",
       "      <td>8.50000</td>\n",
       "    </tr>\n",
       "    <tr>\n",
       "      <th>max</th>\n",
       "      <td>99.960000</td>\n",
       "      <td>10.000000</td>\n",
       "      <td>49.650000</td>\n",
       "      <td>1042.650000</td>\n",
       "      <td>993.00000</td>\n",
       "      <td>4.761905e+00</td>\n",
       "      <td>49.650000</td>\n",
       "      <td>10.00000</td>\n",
       "    </tr>\n",
       "  </tbody>\n",
       "</table>\n",
       "</div>"
      ],
      "text/plain": [
       "        Unit price     Quantity       Tax 5%        Total        cogs  \\\n",
       "count  1000.000000  1000.000000  1000.000000  1000.000000  1000.00000   \n",
       "mean     55.672130     5.510000    15.379369   322.966749   307.58738   \n",
       "std      26.494628     2.923431    11.708825   245.885335   234.17651   \n",
       "min      10.080000     1.000000     0.508500    10.678500    10.17000   \n",
       "25%      32.875000     3.000000     5.924875   124.422375   118.49750   \n",
       "50%      55.230000     5.000000    12.088000   253.848000   241.76000   \n",
       "75%      77.935000     8.000000    22.445250   471.350250   448.90500   \n",
       "max      99.960000    10.000000    49.650000  1042.650000   993.00000   \n",
       "\n",
       "       gross margin percentage  gross income      Rating  \n",
       "count             1.000000e+03   1000.000000  1000.00000  \n",
       "mean              4.761905e+00     15.379369     6.97270  \n",
       "std               6.131498e-14     11.708825     1.71858  \n",
       "min               4.761905e+00      0.508500     4.00000  \n",
       "25%               4.761905e+00      5.924875     5.50000  \n",
       "50%               4.761905e+00     12.088000     7.00000  \n",
       "75%               4.761905e+00     22.445250     8.50000  \n",
       "max               4.761905e+00     49.650000    10.00000  "
      ]
     },
     "execution_count": 8,
     "metadata": {},
     "output_type": "execute_result"
    }
   ],
   "source": [
    "df.describe()                 #describe() will return the iqr,min,max,mean,count & std of all numerical columns "
   ]
  },
  {
   "cell_type": "markdown",
   "id": "39aa8589",
   "metadata": {},
   "source": [
    "#### Rename some column name for some specific operation and store it as data. "
   ]
  },
  {
   "cell_type": "code",
   "execution_count": 9,
   "id": "d9a0449b",
   "metadata": {},
   "outputs": [
    {
     "data": {
      "text/plain": [
       "Index(['Invoice ID', 'Branch', 'City', 'Customer type', 'Gender',\n",
       "       'Product line', 'Unit price', 'Quantity', 'Tax 5%', 'Total', 'Date',\n",
       "       'Time', 'Payment', 'cogs', 'gross_margin_perc', 'gross_income',\n",
       "       'Rating'],\n",
       "      dtype='object')"
      ]
     },
     "execution_count": 9,
     "metadata": {},
     "output_type": "execute_result"
    }
   ],
   "source": [
    "df.rename(columns={'gross margin percentage':'gross_margin_perc','gross income':'gross_income'},inplace=True)\n",
    "df.columns\n",
    "\n",
    "                    #renamed two columns and storing it back to df and calling the columns to get the modified column name"
   ]
  },
  {
   "cell_type": "markdown",
   "id": "4f88a730",
   "metadata": {},
   "source": [
    "#### Correlation of numerical variables and heatmap"
   ]
  },
  {
   "cell_type": "code",
   "execution_count": 10,
   "id": "a5a41acd",
   "metadata": {},
   "outputs": [
    {
     "data": {
      "text/html": [
       "<div>\n",
       "<style scoped>\n",
       "    .dataframe tbody tr th:only-of-type {\n",
       "        vertical-align: middle;\n",
       "    }\n",
       "\n",
       "    .dataframe tbody tr th {\n",
       "        vertical-align: top;\n",
       "    }\n",
       "\n",
       "    .dataframe thead th {\n",
       "        text-align: right;\n",
       "    }\n",
       "</style>\n",
       "<table border=\"1\" class=\"dataframe\">\n",
       "  <thead>\n",
       "    <tr style=\"text-align: right;\">\n",
       "      <th></th>\n",
       "      <th>Unit price</th>\n",
       "      <th>Quantity</th>\n",
       "      <th>Tax 5%</th>\n",
       "      <th>Total</th>\n",
       "      <th>cogs</th>\n",
       "      <th>gross_income</th>\n",
       "      <th>Rating</th>\n",
       "    </tr>\n",
       "  </thead>\n",
       "  <tbody>\n",
       "    <tr>\n",
       "      <th>0</th>\n",
       "      <td>74.69</td>\n",
       "      <td>7</td>\n",
       "      <td>26.1415</td>\n",
       "      <td>548.9715</td>\n",
       "      <td>522.83</td>\n",
       "      <td>26.1415</td>\n",
       "      <td>9.1</td>\n",
       "    </tr>\n",
       "    <tr>\n",
       "      <th>1</th>\n",
       "      <td>15.28</td>\n",
       "      <td>5</td>\n",
       "      <td>3.8200</td>\n",
       "      <td>80.2200</td>\n",
       "      <td>76.40</td>\n",
       "      <td>3.8200</td>\n",
       "      <td>9.6</td>\n",
       "    </tr>\n",
       "    <tr>\n",
       "      <th>2</th>\n",
       "      <td>46.33</td>\n",
       "      <td>7</td>\n",
       "      <td>16.2155</td>\n",
       "      <td>340.5255</td>\n",
       "      <td>324.31</td>\n",
       "      <td>16.2155</td>\n",
       "      <td>7.4</td>\n",
       "    </tr>\n",
       "    <tr>\n",
       "      <th>3</th>\n",
       "      <td>58.22</td>\n",
       "      <td>8</td>\n",
       "      <td>23.2880</td>\n",
       "      <td>489.0480</td>\n",
       "      <td>465.76</td>\n",
       "      <td>23.2880</td>\n",
       "      <td>8.4</td>\n",
       "    </tr>\n",
       "    <tr>\n",
       "      <th>4</th>\n",
       "      <td>86.31</td>\n",
       "      <td>7</td>\n",
       "      <td>30.2085</td>\n",
       "      <td>634.3785</td>\n",
       "      <td>604.17</td>\n",
       "      <td>30.2085</td>\n",
       "      <td>5.3</td>\n",
       "    </tr>\n",
       "  </tbody>\n",
       "</table>\n",
       "</div>"
      ],
      "text/plain": [
       "   Unit price  Quantity   Tax 5%     Total    cogs  gross_income  Rating\n",
       "0       74.69         7  26.1415  548.9715  522.83       26.1415     9.1\n",
       "1       15.28         5   3.8200   80.2200   76.40        3.8200     9.6\n",
       "2       46.33         7  16.2155  340.5255  324.31       16.2155     7.4\n",
       "3       58.22         8  23.2880  489.0480  465.76       23.2880     8.4\n",
       "4       86.31         7  30.2085  634.3785  604.17       30.2085     5.3"
      ]
     },
     "execution_count": 10,
     "metadata": {},
     "output_type": "execute_result"
    }
   ],
   "source": [
    "data=df[['Unit price','Quantity','Tax 5%','Total','cogs','gross_income','Rating']]\n",
    "data.head()#top5 records of the operation above\n",
    "\n",
    "                     #creating a variable which stores numerical columns only for calculating correlation values"
   ]
  },
  {
   "cell_type": "code",
   "execution_count": 11,
   "id": "5b3c8c93",
   "metadata": {},
   "outputs": [
    {
     "data": {
      "text/plain": [
       "Text(0.5, 1.0, 'Multi-Collinearity of Supermarket Sales dataset')"
      ]
     },
     "execution_count": 11,
     "metadata": {},
     "output_type": "execute_result"
    },
    {
     "data": {
      "image/png": "[encoded data removed]",
      "text/plain": [
       "<Figure size 432x432 with 2 Axes>"
      ]
     },
     "metadata": {},
     "output_type": "display_data"
    }
   ],
   "source": [
    "corr=data.corr()                                        #create a var corr defining corr() method for correlation\n",
    "fig=plt.subplots(figsize=(6,6))                           #defined figure size for better view\n",
    "mask=np.triu(np.ones_like(corr,dtype=bool))               #creating a mask which hides the lower triangular matrix\n",
    "x=sns.heatmap(corr,annot=True,mask=mask,center=True)      #plot the heatmap by calling the corr variable defined above\n",
    "x.set_title(\"Multi-Collinearity of Supermarket Sales dataset\") #title for our heatmap"
   ]
  },
  {
   "cell_type": "markdown",
   "id": "72ef0ded",
   "metadata": {},
   "source": [
    "                #inference: We can see that the rating has no correlation with any other feature,so it won't impact our gross income in any ways.\n",
    "                  Tax5% is higly correlated with total,cogs,gross income and the lowest corrleation is 63% with unit price column."
   ]
  },
  {
   "cell_type": "markdown",
   "id": "5f47bf59",
   "metadata": {},
   "source": [
    "#### Check Outliers and distribution of data points using Boxplot"
   ]
  },
  {
   "cell_type": "code",
   "execution_count": 12,
   "id": "607ed65c",
   "metadata": {},
   "outputs": [
    {
     "data": {
      "text/plain": [
       "<AxesSubplot:>"
      ]
     },
     "execution_count": 12,
     "metadata": {},
     "output_type": "execute_result"
    },
    {
     "data": {
      "image/png": "[encoded data removed]",
      "text/plain": [
       "<Figure size 1440x720 with 1 Axes>"
      ]
     },
     "metadata": {},
     "output_type": "display_data"
    }
   ],
   "source": [
    "plt.figure(figsize=(20,10))         #define the figure size using matplotlib\n",
    "sns.boxplot(data=df)                #plots the boxplot by parsing the data named dataframe variable created above"
   ]
  },
  {
   "cell_type": "markdown",
   "id": "52f7cf75",
   "metadata": {},
   "source": [
    "                         #inference:There are outliers present in Tax 5%,total,cogs and gross income column but they are very close to the whiskers so it is not an extreme outliers and we can proceed with these data points."
   ]
  },
  {
   "cell_type": "markdown",
   "id": "7fd15675",
   "metadata": {},
   "source": [
    "#### Visualization of our data feature and distributions of our numerical data type"
   ]
  },
  {
   "cell_type": "code",
   "execution_count": 13,
   "id": "3d36a808",
   "metadata": {},
   "outputs": [
    {
     "data": {
      "image/png": "[encoded data removed]",
      "text/plain": [
       "<Figure size 720x720 with 9 Axes>"
      ]
     },
     "metadata": {},
     "output_type": "display_data"
    }
   ],
   "source": [
    "df.hist(figsize=(10,10))              #using dataframe I tried to plot the histogram of all numerical column at one go\n",
    "plt.show()                            #plots the histogram"
   ]
  },
  {
   "cell_type": "markdown",
   "id": "37dea2ab",
   "metadata": {},
   "source": [
    "                           #inference: None of the column looks normally distributed and gross margin perc has same value so a constant graph or line is generated in this case, rest all columns are skewed."
   ]
  },
  {
   "cell_type": "markdown",
   "id": "0ec07e6b",
   "metadata": {},
   "source": [
    "# Part-2:"
   ]
  },
  {
   "cell_type": "markdown",
   "id": "8de8ae3b",
   "metadata": {},
   "source": [
    "#### Is your supermarket more popular with males or females?  "
   ]
  },
  {
   "cell_type": "code",
   "execution_count": 14,
   "id": "b5d22d83",
   "metadata": {},
   "outputs": [
    {
     "name": "stdout",
     "output_type": "stream",
     "text": [
      "Female    501\n",
      "Male      499\n",
      "Name: Gender, dtype: int64\n"
     ]
    },
    {
     "data": {
      "image/png": "[encoded data removed]",
      "text/plain": [
       "<Figure size 432x288 with 1 Axes>"
      ]
     },
     "metadata": {},
     "output_type": "display_data"
    }
   ],
   "source": [
    "sns.countplot(x='Gender',data=df,palette='BuPu')   #countplot used to see the visit or count of male and female\n",
    "print(df.Gender.value_counts())                    #prints the value count of each gender ,male and female\n",
    "\n",
    "                           #inference:"
   ]
  },
  {
   "cell_type": "markdown",
   "id": "39f578f9",
   "metadata": {},
   "source": [
    "                   #inference: My supermarket is popular among both female and male, though female has slightly more than male on count ,may be because females like shopping more than males."
   ]
  },
  {
   "cell_type": "markdown",
   "id": "110ea906",
   "metadata": {},
   "source": [
    "#### What does the customer rating look like and can you also comment on its skewness? "
   ]
  },
  {
   "cell_type": "code",
   "execution_count": 15,
   "id": "6c50146d",
   "metadata": {},
   "outputs": [
    {
     "name": "stdout",
     "output_type": "stream",
     "text": [
      "               W          pval  normal\n",
      "Rating  0.958199  2.685838e-16   False\n",
      "\n",
      "Median value of Rating: 7.0\n",
      "Mean value of Rating: 6.972700000000003\n",
      "Mode value of Rating: 0    6.0\n",
      "dtype: float64\n"
     ]
    },
    {
     "data": {
      "image/png": "[encoded data removed]",
      "text/plain": [
       "<Figure size 360x360 with 1 Axes>"
      ]
     },
     "metadata": {},
     "output_type": "display_data"
    }
   ],
   "source": [
    "sns.displot(x='Rating',data=df,kde=True,kind='hist')\n",
    "                     #this codeblock plots the histogram of rating column and 'kde' used for showing the line for distribution\n",
    "print(pg.normality(df['Rating']))\n",
    "                     #it will show the normality status and p value of rating column using pingouin library \n",
    "print('')            #prints empty line or space\n",
    "print('Median value of Rating:',df.Rating.median()) \n",
    "print('Mean value of Rating:',df.Rating.mean())\n",
    "print('Mode value of Rating:',df.Rating.mode())\n",
    "                     #Mean,Median and Mode of the rating column is calculated and prints the value\n"
   ]
  },
  {
   "cell_type": "markdown",
   "id": "24ceca5c",
   "metadata": {},
   "source": [
    "                #inference:Though the customer Rating column looks like normally distributed but from the normality test and mean ,median,mode it is clear that it is skewed and not normally distributed."
   ]
  },
  {
   "cell_type": "markdown",
   "id": "80d7ae83",
   "metadata": {},
   "source": [
    "#### What can you say about the aggregate sales across the branches?  "
   ]
  },
  {
   "cell_type": "code",
   "execution_count": 16,
   "id": "bd59426e",
   "metadata": {},
   "outputs": [
    {
     "name": "stdout",
     "output_type": "stream",
     "text": [
      "A    340\n",
      "B    332\n",
      "C    328\n",
      "Name: Branch, dtype: int64\n"
     ]
    },
    {
     "data": {
      "text/html": [
       "<div>\n",
       "<style scoped>\n",
       "    .dataframe tbody tr th:only-of-type {\n",
       "        vertical-align: middle;\n",
       "    }\n",
       "\n",
       "    .dataframe tbody tr th {\n",
       "        vertical-align: top;\n",
       "    }\n",
       "\n",
       "    .dataframe thead th {\n",
       "        text-align: right;\n",
       "    }\n",
       "</style>\n",
       "<table border=\"1\" class=\"dataframe\">\n",
       "  <thead>\n",
       "    <tr style=\"text-align: right;\">\n",
       "      <th></th>\n",
       "      <th>Unit price</th>\n",
       "      <th>Quantity</th>\n",
       "      <th>Tax 5%</th>\n",
       "      <th>Total</th>\n",
       "      <th>cogs</th>\n",
       "      <th>gross_margin_perc</th>\n",
       "      <th>gross_income</th>\n",
       "      <th>Rating</th>\n",
       "    </tr>\n",
       "    <tr>\n",
       "      <th>Branch</th>\n",
       "      <th></th>\n",
       "      <th></th>\n",
       "      <th></th>\n",
       "      <th></th>\n",
       "      <th></th>\n",
       "      <th></th>\n",
       "      <th></th>\n",
       "      <th></th>\n",
       "    </tr>\n",
       "  </thead>\n",
       "  <tbody>\n",
       "    <tr>\n",
       "      <th>A</th>\n",
       "      <td>18625.49</td>\n",
       "      <td>1859</td>\n",
       "      <td>5057.1605</td>\n",
       "      <td>106200.3705</td>\n",
       "      <td>101143.21</td>\n",
       "      <td>1619.047619</td>\n",
       "      <td>5057.1605</td>\n",
       "      <td>2389.2</td>\n",
       "    </tr>\n",
       "    <tr>\n",
       "      <th>B</th>\n",
       "      <td>18478.88</td>\n",
       "      <td>1820</td>\n",
       "      <td>5057.0320</td>\n",
       "      <td>106197.6720</td>\n",
       "      <td>101140.64</td>\n",
       "      <td>1580.952381</td>\n",
       "      <td>5057.0320</td>\n",
       "      <td>2263.6</td>\n",
       "    </tr>\n",
       "    <tr>\n",
       "      <th>C</th>\n",
       "      <td>18567.76</td>\n",
       "      <td>1831</td>\n",
       "      <td>5265.1765</td>\n",
       "      <td>110568.7065</td>\n",
       "      <td>105303.53</td>\n",
       "      <td>1561.904762</td>\n",
       "      <td>5265.1765</td>\n",
       "      <td>2319.9</td>\n",
       "    </tr>\n",
       "  </tbody>\n",
       "</table>\n",
       "</div>"
      ],
      "text/plain": [
       "        Unit price  Quantity     Tax 5%        Total       cogs  \\\n",
       "Branch                                                            \n",
       "A         18625.49      1859  5057.1605  106200.3705  101143.21   \n",
       "B         18478.88      1820  5057.0320  106197.6720  101140.64   \n",
       "C         18567.76      1831  5265.1765  110568.7065  105303.53   \n",
       "\n",
       "        gross_margin_perc  gross_income  Rating  \n",
       "Branch                                           \n",
       "A             1619.047619     5057.1605  2389.2  \n",
       "B             1580.952381     5057.0320  2263.6  \n",
       "C             1561.904762     5265.1765  2319.9  "
      ]
     },
     "execution_count": 16,
     "metadata": {},
     "output_type": "execute_result"
    }
   ],
   "source": [
    "print(df['Branch'].value_counts())   #Prints the value count of each branch A,B & C\n",
    "Br=df.groupby(by = 'Branch').sum()   #using groupby in branch and calculates the sum of every other columns with branch as index\n",
    "Br"
   ]
  },
  {
   "cell_type": "code",
   "execution_count": 17,
   "id": "b45b0a51",
   "metadata": {},
   "outputs": [
    {
     "data": {
      "image/png": "[encoded data removed]",
      "text/plain": [
       "<Figure size 1080x360 with 3 Axes>"
      ]
     },
     "metadata": {},
     "output_type": "display_data"
    }
   ],
   "source": [
    "x=Br.index                   #declare x as the index of the Br dataframe created above\n",
    "y=Br['Total']                #declare y as the Total column from the Br dataframe created above\n",
    "plt.subplots(figsize=(15,5)) #defines the figure size \n",
    "plt.subplot(131)             #subplots used to plot three different plots in a row\n",
    "plt.bar(x,y)                 #barplot using x and y as argument\n",
    "plt.subplot(132)             #subplots used to plot three different plots in a row\n",
    "plt.scatter(x,y)             #scatterplot using x and y argument\n",
    "plt.subplot(133)             #subplots used to plot three different plots in a row\n",
    "plt.plot(x,y)                #line plot using x and y as argument\n",
    "plt.suptitle('Aggregate Sales across the branches')\n",
    "                             #Suptitle is used here to name the title of these subplots\n",
    "plt.show()                   #plots the subplots\n",
    "\n",
    "\n",
    "                        #inference:"
   ]
  },
  {
   "cell_type": "markdown",
   "id": "fddd2a61",
   "metadata": {},
   "source": [
    "                 #inference:aggregate sales across the branch C is higher than A and B which is shown in all three subplots and branch A and B has the approx same sales total."
   ]
  },
  {
   "cell_type": "markdown",
   "id": "41f850e9",
   "metadata": {},
   "source": [
    "#### Which is the most popular payment method used by customers? "
   ]
  },
  {
   "cell_type": "code",
   "execution_count": 18,
   "id": "f6c69da0",
   "metadata": {},
   "outputs": [
    {
     "name": "stdout",
     "output_type": "stream",
     "text": [
      "Ewallet        345\n",
      "Cash           344\n",
      "Credit card    311\n",
      "Name: Payment, dtype: int64\n"
     ]
    },
    {
     "data": {
      "image/png": "[encoded data removed]",
      "text/plain": [
       "<Figure size 432x288 with 1 Axes>"
      ]
     },
     "metadata": {},
     "output_type": "display_data"
    }
   ],
   "source": [
    "sns.countplot(x='Payment',data=df)  #countplot will plots the count of payment methods in Y axis and payment method in X axis\n",
    "print(df.Payment.value_counts())    #prints the value count of each payment method\n",
    "plt.xlabel(\"Payment methods\")       #sets the xlabel of the plot\n",
    "plt.show()                          #plots the graph"
   ]
  },
  {
   "cell_type": "markdown",
   "id": "84888172",
   "metadata": {},
   "source": [
    "               #inference:From the countplot it is evident that Ewallet(345) is the most popular payment method and post that cash(344) is popular. Credit card is less popular payment method used by customers(311)."
   ]
  },
  {
   "cell_type": "markdown",
   "id": "70a4c3ae",
   "metadata": {},
   "source": [
    "# Part-3:"
   ]
  },
  {
   "cell_type": "markdown",
   "id": "327df148",
   "metadata": {},
   "source": [
    "#### Does gross income affect customer ratings? "
   ]
  },
  {
   "cell_type": "code",
   "execution_count": 19,
   "id": "e55e00b1",
   "metadata": {},
   "outputs": [
    {
     "name": "stdout",
     "output_type": "stream",
     "text": [
      "                Rating  gross_income\n",
      "Rating        1.000000     -0.036442\n",
      "gross_income -0.036442      1.000000\n"
     ]
    },
    {
     "data": {
      "image/png": "[encoded data removed]",
      "text/plain": [
       "<Figure size 432x288 with 1 Axes>"
      ]
     },
     "metadata": {},
     "output_type": "display_data"
    }
   ],
   "source": [
    "cor=df[['Rating','gross_income']]               #creates a variable cor which contains rating and gross income column\n",
    "sns.scatterplot(x='Rating',y='gross_income',data=df,hue='Gender')\n",
    "                                    #to show it effects or not ,I used scatterplot to see the relation between the two columns\n",
    "    \n",
    "print(cor.corr())                               #prints the correlation value of rating and gross income column"
   ]
  },
  {
   "cell_type": "markdown",
   "id": "c9e2203f",
   "metadata": {},
   "source": [
    "                  #inference: firstly the correlation value is approx to 0 so there is no such relation between thw gross income and customer ratings. Also from the scatterplot we can see that the data points or co ordinates distributed randomly here so we can say that there is no relation of the ratings vs gross income of supermarket."
   ]
  },
  {
   "cell_type": "markdown",
   "id": "39f056c3",
   "metadata": {},
   "source": [
    "#### Which is the most profitable branch? "
   ]
  },
  {
   "cell_type": "code",
   "execution_count": 20,
   "id": "954e4b26",
   "metadata": {},
   "outputs": [
    {
     "data": {
      "text/plain": [
       "<AxesSubplot:xlabel='Branch', ylabel='gross_income'>"
      ]
     },
     "execution_count": 20,
     "metadata": {},
     "output_type": "execute_result"
    },
    {
     "data": {
      "image/png": "[encoded data removed]",
      "text/plain": [
       "<Figure size 432x288 with 1 Axes>"
      ]
     },
     "metadata": {},
     "output_type": "display_data"
    }
   ],
   "source": [
    "sns.barplot(x='Branch',y='gross_income',hue='City',data= df,palette='YlOrBr')\n",
    "                   #plot to show the branch vs gross income using barplot"
   ]
  },
  {
   "cell_type": "markdown",
   "id": "a3803256",
   "metadata": {},
   "source": [
    "                #inference: Most profitable simply means highest gross income generated by a branch which is 'C' here as it clearly generates us more gross income although there is not much difference as C is slightly aove from A and B. Also Naypyitaw is the most profitable branch which generates highest gross income."
   ]
  },
  {
   "cell_type": "markdown",
   "id": "825cd3ac",
   "metadata": {},
   "source": [
    " #### How is the relationship between Gender and Gross income?"
   ]
  },
  {
   "cell_type": "code",
   "execution_count": 21,
   "id": "e9ef557f",
   "metadata": {},
   "outputs": [
    {
     "data": {
      "text/plain": [
       "<AxesSubplot:xlabel='Gender', ylabel='gross_income'>"
      ]
     },
     "execution_count": 21,
     "metadata": {},
     "output_type": "execute_result"
    },
    {
     "data": {
      "image/png": "[encoded data removed]",
      "text/plain": [
       "<Figure size 864x576 with 3 Axes>"
      ]
     },
     "metadata": {},
     "output_type": "display_data"
    }
   ],
   "source": [
    "plt.figure(figsize=(12,8))             #defines the figure size of the plots\n",
    "\n",
    "plt.subplot(131)                       #creating subplots (131)-one row ,three plots and this is the first plot in sequence\n",
    "sns.barplot(x='Gender',y='gross_income',data= df,palette='BuPu')\n",
    "                                       #plotting a barplot to see the relation between them\n",
    "    \n",
    "plt.subplot(132)                       #creating subplots (132)-one row, three plots and this is the second plot in sequence\n",
    "sns.violinplot(x='Gender', y='gross_income', data = df)\n",
    "                                       #creating violin plot to see the mode and other information\n",
    "    \n",
    "plt.subplot(133)                       #creating subplots (133)-one row ,three plots and this is the third plot in sequence\n",
    "sns.boxplot(x='Gender', y='gross_income', data = df, showmeans = True,palette='magma_r')\n",
    "                                       #plots the boxplot to see outliers and difference between the male and female"
   ]
  },
  {
   "cell_type": "markdown",
   "id": "7f95fa9e",
   "metadata": {},
   "source": [
    "                  #inference: Mean and Median value is almost equal for both categories.\n",
    "                            # min value is same for both genders, but max value differs a little where female spends a bit higher results in higher gross income of the supermarket. Gender-female helps generates higher gross income comparatively males."
   ]
  },
  {
   "cell_type": "markdown",
   "id": "b773f39b",
   "metadata": {},
   "source": [
    "#### Can you see any time trend in gross income?  "
   ]
  },
  {
   "cell_type": "code",
   "execution_count": 22,
   "id": "b9de9a1f",
   "metadata": {},
   "outputs": [
    {
     "data": {
      "text/html": [
       "<div>\n",
       "<style scoped>\n",
       "    .dataframe tbody tr th:only-of-type {\n",
       "        vertical-align: middle;\n",
       "    }\n",
       "\n",
       "    .dataframe tbody tr th {\n",
       "        vertical-align: top;\n",
       "    }\n",
       "\n",
       "    .dataframe thead th {\n",
       "        text-align: right;\n",
       "    }\n",
       "</style>\n",
       "<table border=\"1\" class=\"dataframe\">\n",
       "  <thead>\n",
       "    <tr style=\"text-align: right;\">\n",
       "      <th></th>\n",
       "      <th>Invoice ID</th>\n",
       "      <th>Branch</th>\n",
       "      <th>City</th>\n",
       "      <th>Customer type</th>\n",
       "      <th>Gender</th>\n",
       "      <th>Product line</th>\n",
       "      <th>Unit price</th>\n",
       "      <th>Quantity</th>\n",
       "      <th>Tax 5%</th>\n",
       "      <th>Total</th>\n",
       "      <th>Time</th>\n",
       "      <th>Payment</th>\n",
       "      <th>cogs</th>\n",
       "      <th>gross_margin_perc</th>\n",
       "      <th>gross_income</th>\n",
       "      <th>Rating</th>\n",
       "    </tr>\n",
       "    <tr>\n",
       "      <th>Date</th>\n",
       "      <th></th>\n",
       "      <th></th>\n",
       "      <th></th>\n",
       "      <th></th>\n",
       "      <th></th>\n",
       "      <th></th>\n",
       "      <th></th>\n",
       "      <th></th>\n",
       "      <th></th>\n",
       "      <th></th>\n",
       "      <th></th>\n",
       "      <th></th>\n",
       "      <th></th>\n",
       "      <th></th>\n",
       "      <th></th>\n",
       "      <th></th>\n",
       "    </tr>\n",
       "  </thead>\n",
       "  <tbody>\n",
       "    <tr>\n",
       "      <th>2019-01-05</th>\n",
       "      <td>750-67-8428</td>\n",
       "      <td>A</td>\n",
       "      <td>Yangon</td>\n",
       "      <td>Member</td>\n",
       "      <td>Female</td>\n",
       "      <td>Health and beauty</td>\n",
       "      <td>74.69</td>\n",
       "      <td>7</td>\n",
       "      <td>26.1415</td>\n",
       "      <td>548.9715</td>\n",
       "      <td>13:08</td>\n",
       "      <td>Ewallet</td>\n",
       "      <td>522.83</td>\n",
       "      <td>4.761905</td>\n",
       "      <td>26.1415</td>\n",
       "      <td>9.1</td>\n",
       "    </tr>\n",
       "    <tr>\n",
       "      <th>2019-03-08</th>\n",
       "      <td>226-31-3081</td>\n",
       "      <td>C</td>\n",
       "      <td>Naypyitaw</td>\n",
       "      <td>Normal</td>\n",
       "      <td>Female</td>\n",
       "      <td>Electronic accessories</td>\n",
       "      <td>15.28</td>\n",
       "      <td>5</td>\n",
       "      <td>3.8200</td>\n",
       "      <td>80.2200</td>\n",
       "      <td>10:29</td>\n",
       "      <td>Cash</td>\n",
       "      <td>76.40</td>\n",
       "      <td>4.761905</td>\n",
       "      <td>3.8200</td>\n",
       "      <td>9.6</td>\n",
       "    </tr>\n",
       "    <tr>\n",
       "      <th>2019-03-03</th>\n",
       "      <td>631-41-3108</td>\n",
       "      <td>A</td>\n",
       "      <td>Yangon</td>\n",
       "      <td>Normal</td>\n",
       "      <td>Male</td>\n",
       "      <td>Home and lifestyle</td>\n",
       "      <td>46.33</td>\n",
       "      <td>7</td>\n",
       "      <td>16.2155</td>\n",
       "      <td>340.5255</td>\n",
       "      <td>13:23</td>\n",
       "      <td>Credit card</td>\n",
       "      <td>324.31</td>\n",
       "      <td>4.761905</td>\n",
       "      <td>16.2155</td>\n",
       "      <td>7.4</td>\n",
       "    </tr>\n",
       "    <tr>\n",
       "      <th>2019-01-27</th>\n",
       "      <td>123-19-1176</td>\n",
       "      <td>A</td>\n",
       "      <td>Yangon</td>\n",
       "      <td>Member</td>\n",
       "      <td>Male</td>\n",
       "      <td>Health and beauty</td>\n",
       "      <td>58.22</td>\n",
       "      <td>8</td>\n",
       "      <td>23.2880</td>\n",
       "      <td>489.0480</td>\n",
       "      <td>20:33</td>\n",
       "      <td>Ewallet</td>\n",
       "      <td>465.76</td>\n",
       "      <td>4.761905</td>\n",
       "      <td>23.2880</td>\n",
       "      <td>8.4</td>\n",
       "    </tr>\n",
       "    <tr>\n",
       "      <th>2019-02-08</th>\n",
       "      <td>373-73-7910</td>\n",
       "      <td>A</td>\n",
       "      <td>Yangon</td>\n",
       "      <td>Normal</td>\n",
       "      <td>Male</td>\n",
       "      <td>Sports and travel</td>\n",
       "      <td>86.31</td>\n",
       "      <td>7</td>\n",
       "      <td>30.2085</td>\n",
       "      <td>634.3785</td>\n",
       "      <td>10:37</td>\n",
       "      <td>Ewallet</td>\n",
       "      <td>604.17</td>\n",
       "      <td>4.761905</td>\n",
       "      <td>30.2085</td>\n",
       "      <td>5.3</td>\n",
       "    </tr>\n",
       "  </tbody>\n",
       "</table>\n",
       "</div>"
      ],
      "text/plain": [
       "             Invoice ID Branch       City Customer type  Gender  \\\n",
       "Date                                                              \n",
       "2019-01-05  750-67-8428      A     Yangon        Member  Female   \n",
       "2019-03-08  226-31-3081      C  Naypyitaw        Normal  Female   \n",
       "2019-03-03  631-41-3108      A     Yangon        Normal    Male   \n",
       "2019-01-27  123-19-1176      A     Yangon        Member    Male   \n",
       "2019-02-08  373-73-7910      A     Yangon        Normal    Male   \n",
       "\n",
       "                      Product line  Unit price  Quantity   Tax 5%     Total  \\\n",
       "Date                                                                          \n",
       "2019-01-05       Health and beauty       74.69         7  26.1415  548.9715   \n",
       "2019-03-08  Electronic accessories       15.28         5   3.8200   80.2200   \n",
       "2019-03-03      Home and lifestyle       46.33         7  16.2155  340.5255   \n",
       "2019-01-27       Health and beauty       58.22         8  23.2880  489.0480   \n",
       "2019-02-08       Sports and travel       86.31         7  30.2085  634.3785   \n",
       "\n",
       "             Time      Payment    cogs  gross_margin_perc  gross_income  \\\n",
       "Date                                                                      \n",
       "2019-01-05  13:08      Ewallet  522.83           4.761905       26.1415   \n",
       "2019-03-08  10:29         Cash   76.40           4.761905        3.8200   \n",
       "2019-03-03  13:23  Credit card  324.31           4.761905       16.2155   \n",
       "2019-01-27  20:33      Ewallet  465.76           4.761905       23.2880   \n",
       "2019-02-08  10:37      Ewallet  604.17           4.761905       30.2085   \n",
       "\n",
       "            Rating  \n",
       "Date                \n",
       "2019-01-05     9.1  \n",
       "2019-03-08     9.6  \n",
       "2019-03-03     7.4  \n",
       "2019-01-27     8.4  \n",
       "2019-02-08     5.3  "
      ]
     },
     "execution_count": 22,
     "metadata": {},
     "output_type": "execute_result"
    }
   ],
   "source": [
    "df['Date'] = pd.to_datetime(df['Date'])\n",
    "                                #the date column which is an object initially now converted to datetime data type using pandas\n",
    "df.set_index('Date',inplace=True)\n",
    "                                #I've set the date column as my index to bind my values associated with each column\n",
    "df.head()                       #top 5 modified dataframe as date index"
   ]
  },
  {
   "cell_type": "code",
   "execution_count": 23,
   "id": "f24e1f96",
   "metadata": {},
   "outputs": [
    {
     "data": {
      "text/plain": [
       "DatetimeIndex(['2019-01-01', '2019-01-02', '2019-01-03', '2019-01-04',\n",
       "               '2019-01-05', '2019-01-06', '2019-01-07', '2019-01-08',\n",
       "               '2019-01-09', '2019-01-10', '2019-01-11', '2019-01-12',\n",
       "               '2019-01-13', '2019-01-14', '2019-01-15', '2019-01-16',\n",
       "               '2019-01-17', '2019-01-18', '2019-01-19', '2019-01-20',\n",
       "               '2019-01-21', '2019-01-22', '2019-01-23', '2019-01-24',\n",
       "               '2019-01-25', '2019-01-26', '2019-01-27', '2019-01-28',\n",
       "               '2019-01-29', '2019-01-30', '2019-01-31', '2019-02-01',\n",
       "               '2019-02-02', '2019-02-03', '2019-02-04', '2019-02-05',\n",
       "               '2019-02-06', '2019-02-07', '2019-02-08', '2019-02-09',\n",
       "               '2019-02-10', '2019-02-11', '2019-02-12', '2019-02-13',\n",
       "               '2019-02-14', '2019-02-15', '2019-02-16', '2019-02-17',\n",
       "               '2019-02-18', '2019-02-19', '2019-02-20', '2019-02-21',\n",
       "               '2019-02-22', '2019-02-23', '2019-02-24', '2019-02-25',\n",
       "               '2019-02-26', '2019-02-27', '2019-02-28', '2019-03-01',\n",
       "               '2019-03-02', '2019-03-03', '2019-03-04', '2019-03-05',\n",
       "               '2019-03-06', '2019-03-07', '2019-03-08', '2019-03-09',\n",
       "               '2019-03-10', '2019-03-11', '2019-03-12', '2019-03-13',\n",
       "               '2019-03-14', '2019-03-15', '2019-03-16', '2019-03-17',\n",
       "               '2019-03-18', '2019-03-19', '2019-03-20', '2019-03-21',\n",
       "               '2019-03-22', '2019-03-23', '2019-03-24', '2019-03-25',\n",
       "               '2019-03-26', '2019-03-27', '2019-03-28', '2019-03-29',\n",
       "               '2019-03-30'],\n",
       "              dtype='datetime64[ns]', name='Date', freq=None)"
      ]
     },
     "execution_count": 23,
     "metadata": {},
     "output_type": "execute_result"
    }
   ],
   "source": [
    "Datein=df.groupby(df.index).mean().index  \n",
    "            #using groupby on the index column which is date and store it under Datein variable by calculating its mean of index\n",
    "Datein      #calling the Datein variable or index"
   ]
  },
  {
   "cell_type": "code",
   "execution_count": 24,
   "id": "8b921f21",
   "metadata": {},
   "outputs": [
    {
     "data": {
      "text/plain": [
       "<AxesSubplot:xlabel='Date', ylabel='gross_income'>"
      ]
     },
     "execution_count": 24,
     "metadata": {},
     "output_type": "execute_result"
    },
    {
     "data": {
      "image/png": "[encoded data removed]",
      "text/plain": [
       "<Figure size 576x360 with 1 Axes>"
      ]
     },
     "metadata": {},
     "output_type": "display_data"
    }
   ],
   "source": [
    "plt.figure(figsize=(8,5))     #defines the figure size of the trend graph\n",
    "sns.lineplot(x=Datein, y=df.groupby(df.index).mean()['gross_income'])\n",
    "                              #lineplot is used to show the time trend of gross income using mean values "
   ]
  },
  {
   "cell_type": "markdown",
   "id": "616da7ac",
   "metadata": {},
   "source": [
    "                #inference: No particular time trend except on the date between 2019-02-01 and 2019-02-15 where the peak gets very high and falls to lowest abruptly, rest all the trend is on a average scale and fluctuates within 10-20 limits of the gross income on y axis."
   ]
  },
  {
   "cell_type": "markdown",
   "id": "cefa67ce",
   "metadata": {},
   "source": [
    " #### Which product line helps you generate the most income?"
   ]
  },
  {
   "cell_type": "code",
   "execution_count": 25,
   "id": "e3b71c6a",
   "metadata": {},
   "outputs": [
    {
     "data": {
      "text/plain": [
       "array(['Health and beauty', 'Electronic accessories',\n",
       "       'Home and lifestyle', 'Sports and travel', 'Food and beverages',\n",
       "       'Fashion accessories'], dtype=object)"
      ]
     },
     "execution_count": 25,
     "metadata": {},
     "output_type": "execute_result"
    }
   ],
   "source": [
    "df['Product line'].unique()          #unique types of product line in the dataset"
   ]
  },
  {
   "cell_type": "code",
   "execution_count": 26,
   "id": "fad0380a",
   "metadata": {},
   "outputs": [
    {
     "data": {
      "text/html": [
       "<div>\n",
       "<style scoped>\n",
       "    .dataframe tbody tr th:only-of-type {\n",
       "        vertical-align: middle;\n",
       "    }\n",
       "\n",
       "    .dataframe tbody tr th {\n",
       "        vertical-align: top;\n",
       "    }\n",
       "\n",
       "    .dataframe thead th {\n",
       "        text-align: right;\n",
       "    }\n",
       "</style>\n",
       "<table border=\"1\" class=\"dataframe\">\n",
       "  <thead>\n",
       "    <tr style=\"text-align: right;\">\n",
       "      <th></th>\n",
       "      <th>Unit price</th>\n",
       "      <th>Quantity</th>\n",
       "      <th>Tax 5%</th>\n",
       "      <th>Total</th>\n",
       "      <th>cogs</th>\n",
       "      <th>gross_margin_perc</th>\n",
       "      <th>gross_income</th>\n",
       "      <th>Rating</th>\n",
       "    </tr>\n",
       "    <tr>\n",
       "      <th>Product line</th>\n",
       "      <th></th>\n",
       "      <th></th>\n",
       "      <th></th>\n",
       "      <th></th>\n",
       "      <th></th>\n",
       "      <th></th>\n",
       "      <th></th>\n",
       "      <th></th>\n",
       "    </tr>\n",
       "  </thead>\n",
       "  <tbody>\n",
       "    <tr>\n",
       "      <th>Electronic accessories</th>\n",
       "      <td>9103.77</td>\n",
       "      <td>971</td>\n",
       "      <td>2587.5015</td>\n",
       "      <td>54337.5315</td>\n",
       "      <td>51750.03</td>\n",
       "      <td>809.523810</td>\n",
       "      <td>2587.5015</td>\n",
       "      <td>1177.2</td>\n",
       "    </tr>\n",
       "    <tr>\n",
       "      <th>Fashion accessories</th>\n",
       "      <td>10173.35</td>\n",
       "      <td>902</td>\n",
       "      <td>2585.9950</td>\n",
       "      <td>54305.8950</td>\n",
       "      <td>51719.90</td>\n",
       "      <td>847.619048</td>\n",
       "      <td>2585.9950</td>\n",
       "      <td>1251.2</td>\n",
       "    </tr>\n",
       "    <tr>\n",
       "      <th>Food and beverages</th>\n",
       "      <td>9745.54</td>\n",
       "      <td>952</td>\n",
       "      <td>2673.5640</td>\n",
       "      <td>56144.8440</td>\n",
       "      <td>53471.28</td>\n",
       "      <td>828.571429</td>\n",
       "      <td>2673.5640</td>\n",
       "      <td>1237.7</td>\n",
       "    </tr>\n",
       "    <tr>\n",
       "      <th>Health and beauty</th>\n",
       "      <td>8337.88</td>\n",
       "      <td>854</td>\n",
       "      <td>2342.5590</td>\n",
       "      <td>49193.7390</td>\n",
       "      <td>46851.18</td>\n",
       "      <td>723.809524</td>\n",
       "      <td>2342.5590</td>\n",
       "      <td>1064.5</td>\n",
       "    </tr>\n",
       "    <tr>\n",
       "      <th>Home and lifestyle</th>\n",
       "      <td>8850.71</td>\n",
       "      <td>911</td>\n",
       "      <td>2564.8530</td>\n",
       "      <td>53861.9130</td>\n",
       "      <td>51297.06</td>\n",
       "      <td>761.904762</td>\n",
       "      <td>2564.8530</td>\n",
       "      <td>1094.0</td>\n",
       "    </tr>\n",
       "    <tr>\n",
       "      <th>Sports and travel</th>\n",
       "      <td>9460.88</td>\n",
       "      <td>920</td>\n",
       "      <td>2624.8965</td>\n",
       "      <td>55122.8265</td>\n",
       "      <td>52497.93</td>\n",
       "      <td>790.476190</td>\n",
       "      <td>2624.8965</td>\n",
       "      <td>1148.1</td>\n",
       "    </tr>\n",
       "  </tbody>\n",
       "</table>\n",
       "</div>"
      ],
      "text/plain": [
       "                        Unit price  Quantity     Tax 5%       Total      cogs  \\\n",
       "Product line                                                                    \n",
       "Electronic accessories     9103.77       971  2587.5015  54337.5315  51750.03   \n",
       "Fashion accessories       10173.35       902  2585.9950  54305.8950  51719.90   \n",
       "Food and beverages         9745.54       952  2673.5640  56144.8440  53471.28   \n",
       "Health and beauty          8337.88       854  2342.5590  49193.7390  46851.18   \n",
       "Home and lifestyle         8850.71       911  2564.8530  53861.9130  51297.06   \n",
       "Sports and travel          9460.88       920  2624.8965  55122.8265  52497.93   \n",
       "\n",
       "                        gross_margin_perc  gross_income  Rating  \n",
       "Product line                                                     \n",
       "Electronic accessories         809.523810     2587.5015  1177.2  \n",
       "Fashion accessories            847.619048     2585.9950  1251.2  \n",
       "Food and beverages             828.571429     2673.5640  1237.7  \n",
       "Health and beauty              723.809524     2342.5590  1064.5  \n",
       "Home and lifestyle             761.904762     2564.8530  1094.0  \n",
       "Sports and travel              790.476190     2624.8965  1148.1  "
      ]
     },
     "execution_count": 26,
     "metadata": {},
     "output_type": "execute_result"
    }
   ],
   "source": [
    "Pl= df.groupby('Product line').sum()\n",
    "              #groupby on product line column and sum function used to return total of each column according to the product line\n",
    "Pl            #the above dataframe stored under Pl and we are calling the Pl function."
   ]
  },
  {
   "cell_type": "code",
   "execution_count": 27,
   "id": "3316defb",
   "metadata": {},
   "outputs": [
    {
     "data": {
      "text/plain": [
       "<AxesSubplot:xlabel='Product line', ylabel='gross_income'>"
      ]
     },
     "execution_count": 27,
     "metadata": {},
     "output_type": "execute_result"
    },
    {
     "data": {
      "image/png": "[encoded data removed]",
      "text/plain": [
       "<Figure size 1440x432 with 1 Axes>"
      ]
     },
     "metadata": {},
     "output_type": "display_data"
    }
   ],
   "source": [
    "plt.figure(figsize=(20,6))  #defines the figure size of the plot\n",
    "sns.barplot(x = Pl.index, y = 'gross_income', data = Pl)\n",
    "                            #barplot used with the index column of Pl as x and total gross income against each product line as y"
   ]
  },
  {
   "cell_type": "markdown",
   "id": "b1f3268b",
   "metadata": {},
   "source": [
    "               #inference: The green coloured bar 'Food and beverages' has the highest gross income comparatibly other product line. So in order to increase my income I will be focused more on foods and beverages and increase the supply of this product line in order to generate the most income. 'Health and beauty' on the other hand generates lowest gross income so we need not be bothered of the supply of this product line."
   ]
  },
  {
   "cell_type": "markdown",
   "id": "86d4c805",
   "metadata": {},
   "source": [
    "#### What is the spending pattern of both males and females, meaning in which category do they spend more? "
   ]
  },
  {
   "cell_type": "code",
   "execution_count": 28,
   "id": "e09152c0",
   "metadata": {},
   "outputs": [
    {
     "data": {
      "text/plain": [
       "<AxesSubplot:title={'center':'Total Monthly transaction by Gender'}, xlabel='Product line', ylabel='count'>"
      ]
     },
     "execution_count": 28,
     "metadata": {},
     "output_type": "execute_result"
    },
    {
     "data": {
      "image/png": "[encoded data removed]",
      "text/plain": [
       "<Figure size 1080x432 with 1 Axes>"
      ]
     },
     "metadata": {},
     "output_type": "display_data"
    }
   ],
   "source": [
    "plt.figure(figsize=(15, 6))             #defines figure size of the plot\n",
    "plt.title('Total Monthly transaction by Gender')\n",
    "                                        #set the title as mentioned in the head section of the plot\n",
    "sns.countplot(x='Product line',data=df, hue = df.Gender,palette='RdPu')\n",
    "                                        #countplot used to find the pattern of spending against each product line of the two male and female"
   ]
  },
  {
   "cell_type": "markdown",
   "id": "00b57b45",
   "metadata": {},
   "source": [
    "                 #inference:from countplot female spend more on 'fashion accessories' and least spend on 'Health and beauty' whereas male has a higher spend on 'Health and beauty' and least spend on 'Sports and travel' because female loves cosmetics and male gets a upper hand on health."
   ]
  },
  {
   "cell_type": "markdown",
   "id": "4f92069f",
   "metadata": {},
   "source": [
    "#### How many products are bought by customers? "
   ]
  },
  {
   "cell_type": "code",
   "execution_count": 29,
   "id": "28447d8d",
   "metadata": {},
   "outputs": [
    {
     "name": "stdout",
     "output_type": "stream",
     "text": [
      "10    119\n",
      "1     112\n",
      "4     109\n",
      "5     102\n",
      "7     102\n",
      "6      98\n",
      "9      92\n",
      "2      91\n",
      "3      90\n",
      "8      85\n",
      "Name: Quantity, dtype: int64\n"
     ]
    },
    {
     "data": {
      "image/png": "[encoded data removed]",
      "text/plain": [
       "<Figure size 864x432 with 1 Axes>"
      ]
     },
     "metadata": {},
     "output_type": "display_data"
    }
   ],
   "source": [
    "plt.figure(figsize=(12, 6))          #defines the figure size of the plots\n",
    "sns.countplot(x='Quantity',data=df)  #countplot counts the no of customers bought the number of quantities of products\n",
    "print(df['Quantity'].value_counts()) #calculates the count of quantity of products bought by customers"
   ]
  },
  {
   "cell_type": "markdown",
   "id": "2b96c20e",
   "metadata": {},
   "source": [
    "                 #inference:Products bought by customers can be understood by this countplot as the quantities bought the maximum number of times is 119 i.e exactly 119 customers buy 10 quantity of goods from the supermarket and 85 customers buy 8 quantities is the lowest purchase from the supermarket."
   ]
  },
  {
   "cell_type": "markdown",
   "id": "d841671f",
   "metadata": {},
   "source": [
    "#### Which day of the week has maximum sales? "
   ]
  },
  {
   "cell_type": "code",
   "execution_count": 30,
   "id": "3461e18c",
   "metadata": {},
   "outputs": [
    {
     "data": {
      "text/html": [
       "<div>\n",
       "<style scoped>\n",
       "    .dataframe tbody tr th:only-of-type {\n",
       "        vertical-align: middle;\n",
       "    }\n",
       "\n",
       "    .dataframe tbody tr th {\n",
       "        vertical-align: top;\n",
       "    }\n",
       "\n",
       "    .dataframe thead th {\n",
       "        text-align: right;\n",
       "    }\n",
       "</style>\n",
       "<table border=\"1\" class=\"dataframe\">\n",
       "  <thead>\n",
       "    <tr style=\"text-align: right;\">\n",
       "      <th></th>\n",
       "      <th>Invoice ID</th>\n",
       "      <th>Branch</th>\n",
       "      <th>City</th>\n",
       "      <th>Customer type</th>\n",
       "      <th>Gender</th>\n",
       "      <th>Product line</th>\n",
       "      <th>Unit price</th>\n",
       "      <th>Quantity</th>\n",
       "      <th>Tax 5%</th>\n",
       "      <th>Total</th>\n",
       "      <th>Time</th>\n",
       "      <th>Payment</th>\n",
       "      <th>cogs</th>\n",
       "      <th>gross_margin_perc</th>\n",
       "      <th>gross_income</th>\n",
       "      <th>Rating</th>\n",
       "    </tr>\n",
       "    <tr>\n",
       "      <th>Date</th>\n",
       "      <th></th>\n",
       "      <th></th>\n",
       "      <th></th>\n",
       "      <th></th>\n",
       "      <th></th>\n",
       "      <th></th>\n",
       "      <th></th>\n",
       "      <th></th>\n",
       "      <th></th>\n",
       "      <th></th>\n",
       "      <th></th>\n",
       "      <th></th>\n",
       "      <th></th>\n",
       "      <th></th>\n",
       "      <th></th>\n",
       "      <th></th>\n",
       "    </tr>\n",
       "  </thead>\n",
       "  <tbody>\n",
       "    <tr>\n",
       "      <th>2019-01-05</th>\n",
       "      <td>750-67-8428</td>\n",
       "      <td>A</td>\n",
       "      <td>Yangon</td>\n",
       "      <td>Member</td>\n",
       "      <td>Female</td>\n",
       "      <td>Health and beauty</td>\n",
       "      <td>74.69</td>\n",
       "      <td>7</td>\n",
       "      <td>26.1415</td>\n",
       "      <td>548.9715</td>\n",
       "      <td>13:08</td>\n",
       "      <td>Ewallet</td>\n",
       "      <td>522.83</td>\n",
       "      <td>4.761905</td>\n",
       "      <td>26.1415</td>\n",
       "      <td>9.1</td>\n",
       "    </tr>\n",
       "    <tr>\n",
       "      <th>2019-03-08</th>\n",
       "      <td>226-31-3081</td>\n",
       "      <td>C</td>\n",
       "      <td>Naypyitaw</td>\n",
       "      <td>Normal</td>\n",
       "      <td>Female</td>\n",
       "      <td>Electronic accessories</td>\n",
       "      <td>15.28</td>\n",
       "      <td>5</td>\n",
       "      <td>3.8200</td>\n",
       "      <td>80.2200</td>\n",
       "      <td>10:29</td>\n",
       "      <td>Cash</td>\n",
       "      <td>76.40</td>\n",
       "      <td>4.761905</td>\n",
       "      <td>3.8200</td>\n",
       "      <td>9.6</td>\n",
       "    </tr>\n",
       "    <tr>\n",
       "      <th>2019-03-03</th>\n",
       "      <td>631-41-3108</td>\n",
       "      <td>A</td>\n",
       "      <td>Yangon</td>\n",
       "      <td>Normal</td>\n",
       "      <td>Male</td>\n",
       "      <td>Home and lifestyle</td>\n",
       "      <td>46.33</td>\n",
       "      <td>7</td>\n",
       "      <td>16.2155</td>\n",
       "      <td>340.5255</td>\n",
       "      <td>13:23</td>\n",
       "      <td>Credit card</td>\n",
       "      <td>324.31</td>\n",
       "      <td>4.761905</td>\n",
       "      <td>16.2155</td>\n",
       "      <td>7.4</td>\n",
       "    </tr>\n",
       "    <tr>\n",
       "      <th>2019-01-27</th>\n",
       "      <td>123-19-1176</td>\n",
       "      <td>A</td>\n",
       "      <td>Yangon</td>\n",
       "      <td>Member</td>\n",
       "      <td>Male</td>\n",
       "      <td>Health and beauty</td>\n",
       "      <td>58.22</td>\n",
       "      <td>8</td>\n",
       "      <td>23.2880</td>\n",
       "      <td>489.0480</td>\n",
       "      <td>20:33</td>\n",
       "      <td>Ewallet</td>\n",
       "      <td>465.76</td>\n",
       "      <td>4.761905</td>\n",
       "      <td>23.2880</td>\n",
       "      <td>8.4</td>\n",
       "    </tr>\n",
       "    <tr>\n",
       "      <th>2019-02-08</th>\n",
       "      <td>373-73-7910</td>\n",
       "      <td>A</td>\n",
       "      <td>Yangon</td>\n",
       "      <td>Normal</td>\n",
       "      <td>Male</td>\n",
       "      <td>Sports and travel</td>\n",
       "      <td>86.31</td>\n",
       "      <td>7</td>\n",
       "      <td>30.2085</td>\n",
       "      <td>634.3785</td>\n",
       "      <td>10:37</td>\n",
       "      <td>Ewallet</td>\n",
       "      <td>604.17</td>\n",
       "      <td>4.761905</td>\n",
       "      <td>30.2085</td>\n",
       "      <td>5.3</td>\n",
       "    </tr>\n",
       "  </tbody>\n",
       "</table>\n",
       "</div>"
      ],
      "text/plain": [
       "             Invoice ID Branch       City Customer type  Gender  \\\n",
       "Date                                                              \n",
       "2019-01-05  750-67-8428      A     Yangon        Member  Female   \n",
       "2019-03-08  226-31-3081      C  Naypyitaw        Normal  Female   \n",
       "2019-03-03  631-41-3108      A     Yangon        Normal    Male   \n",
       "2019-01-27  123-19-1176      A     Yangon        Member    Male   \n",
       "2019-02-08  373-73-7910      A     Yangon        Normal    Male   \n",
       "\n",
       "                      Product line  Unit price  Quantity   Tax 5%     Total  \\\n",
       "Date                                                                          \n",
       "2019-01-05       Health and beauty       74.69         7  26.1415  548.9715   \n",
       "2019-03-08  Electronic accessories       15.28         5   3.8200   80.2200   \n",
       "2019-03-03      Home and lifestyle       46.33         7  16.2155  340.5255   \n",
       "2019-01-27       Health and beauty       58.22         8  23.2880  489.0480   \n",
       "2019-02-08       Sports and travel       86.31         7  30.2085  634.3785   \n",
       "\n",
       "             Time      Payment    cogs  gross_margin_perc  gross_income  \\\n",
       "Date                                                                      \n",
       "2019-01-05  13:08      Ewallet  522.83           4.761905       26.1415   \n",
       "2019-03-08  10:29         Cash   76.40           4.761905        3.8200   \n",
       "2019-03-03  13:23  Credit card  324.31           4.761905       16.2155   \n",
       "2019-01-27  20:33      Ewallet  465.76           4.761905       23.2880   \n",
       "2019-02-08  10:37      Ewallet  604.17           4.761905       30.2085   \n",
       "\n",
       "            Rating  \n",
       "Date                \n",
       "2019-01-05     9.1  \n",
       "2019-03-08     9.6  \n",
       "2019-03-03     7.4  \n",
       "2019-01-27     8.4  \n",
       "2019-02-08     5.3  "
      ]
     },
     "execution_count": 30,
     "metadata": {},
     "output_type": "execute_result"
    }
   ],
   "source": [
    "df.head()                     #our dataframe after date set as index"
   ]
  },
  {
   "cell_type": "code",
   "execution_count": 31,
   "id": "8a5bebe7",
   "metadata": {},
   "outputs": [
    {
     "data": {
      "text/html": [
       "<div>\n",
       "<style scoped>\n",
       "    .dataframe tbody tr th:only-of-type {\n",
       "        vertical-align: middle;\n",
       "    }\n",
       "\n",
       "    .dataframe tbody tr th {\n",
       "        vertical-align: top;\n",
       "    }\n",
       "\n",
       "    .dataframe thead th {\n",
       "        text-align: right;\n",
       "    }\n",
       "</style>\n",
       "<table border=\"1\" class=\"dataframe\">\n",
       "  <thead>\n",
       "    <tr style=\"text-align: right;\">\n",
       "      <th></th>\n",
       "      <th>Date</th>\n",
       "      <th>Invoice ID</th>\n",
       "      <th>Branch</th>\n",
       "      <th>City</th>\n",
       "      <th>Customer type</th>\n",
       "      <th>Gender</th>\n",
       "      <th>Product line</th>\n",
       "      <th>Unit price</th>\n",
       "      <th>Quantity</th>\n",
       "      <th>Tax 5%</th>\n",
       "      <th>Total</th>\n",
       "      <th>Time</th>\n",
       "      <th>Payment</th>\n",
       "      <th>cogs</th>\n",
       "      <th>gross_margin_perc</th>\n",
       "      <th>gross_income</th>\n",
       "      <th>Rating</th>\n",
       "    </tr>\n",
       "  </thead>\n",
       "  <tbody>\n",
       "    <tr>\n",
       "      <th>0</th>\n",
       "      <td>2019-01-05</td>\n",
       "      <td>750-67-8428</td>\n",
       "      <td>A</td>\n",
       "      <td>Yangon</td>\n",
       "      <td>Member</td>\n",
       "      <td>Female</td>\n",
       "      <td>Health and beauty</td>\n",
       "      <td>74.69</td>\n",
       "      <td>7</td>\n",
       "      <td>26.1415</td>\n",
       "      <td>548.9715</td>\n",
       "      <td>13:08</td>\n",
       "      <td>Ewallet</td>\n",
       "      <td>522.83</td>\n",
       "      <td>4.761905</td>\n",
       "      <td>26.1415</td>\n",
       "      <td>9.1</td>\n",
       "    </tr>\n",
       "    <tr>\n",
       "      <th>1</th>\n",
       "      <td>2019-03-08</td>\n",
       "      <td>226-31-3081</td>\n",
       "      <td>C</td>\n",
       "      <td>Naypyitaw</td>\n",
       "      <td>Normal</td>\n",
       "      <td>Female</td>\n",
       "      <td>Electronic accessories</td>\n",
       "      <td>15.28</td>\n",
       "      <td>5</td>\n",
       "      <td>3.8200</td>\n",
       "      <td>80.2200</td>\n",
       "      <td>10:29</td>\n",
       "      <td>Cash</td>\n",
       "      <td>76.40</td>\n",
       "      <td>4.761905</td>\n",
       "      <td>3.8200</td>\n",
       "      <td>9.6</td>\n",
       "    </tr>\n",
       "    <tr>\n",
       "      <th>2</th>\n",
       "      <td>2019-03-03</td>\n",
       "      <td>631-41-3108</td>\n",
       "      <td>A</td>\n",
       "      <td>Yangon</td>\n",
       "      <td>Normal</td>\n",
       "      <td>Male</td>\n",
       "      <td>Home and lifestyle</td>\n",
       "      <td>46.33</td>\n",
       "      <td>7</td>\n",
       "      <td>16.2155</td>\n",
       "      <td>340.5255</td>\n",
       "      <td>13:23</td>\n",
       "      <td>Credit card</td>\n",
       "      <td>324.31</td>\n",
       "      <td>4.761905</td>\n",
       "      <td>16.2155</td>\n",
       "      <td>7.4</td>\n",
       "    </tr>\n",
       "    <tr>\n",
       "      <th>3</th>\n",
       "      <td>2019-01-27</td>\n",
       "      <td>123-19-1176</td>\n",
       "      <td>A</td>\n",
       "      <td>Yangon</td>\n",
       "      <td>Member</td>\n",
       "      <td>Male</td>\n",
       "      <td>Health and beauty</td>\n",
       "      <td>58.22</td>\n",
       "      <td>8</td>\n",
       "      <td>23.2880</td>\n",
       "      <td>489.0480</td>\n",
       "      <td>20:33</td>\n",
       "      <td>Ewallet</td>\n",
       "      <td>465.76</td>\n",
       "      <td>4.761905</td>\n",
       "      <td>23.2880</td>\n",
       "      <td>8.4</td>\n",
       "    </tr>\n",
       "    <tr>\n",
       "      <th>4</th>\n",
       "      <td>2019-02-08</td>\n",
       "      <td>373-73-7910</td>\n",
       "      <td>A</td>\n",
       "      <td>Yangon</td>\n",
       "      <td>Normal</td>\n",
       "      <td>Male</td>\n",
       "      <td>Sports and travel</td>\n",
       "      <td>86.31</td>\n",
       "      <td>7</td>\n",
       "      <td>30.2085</td>\n",
       "      <td>634.3785</td>\n",
       "      <td>10:37</td>\n",
       "      <td>Ewallet</td>\n",
       "      <td>604.17</td>\n",
       "      <td>4.761905</td>\n",
       "      <td>30.2085</td>\n",
       "      <td>5.3</td>\n",
       "    </tr>\n",
       "  </tbody>\n",
       "</table>\n",
       "</div>"
      ],
      "text/plain": [
       "        Date   Invoice ID Branch       City Customer type  Gender  \\\n",
       "0 2019-01-05  750-67-8428      A     Yangon        Member  Female   \n",
       "1 2019-03-08  226-31-3081      C  Naypyitaw        Normal  Female   \n",
       "2 2019-03-03  631-41-3108      A     Yangon        Normal    Male   \n",
       "3 2019-01-27  123-19-1176      A     Yangon        Member    Male   \n",
       "4 2019-02-08  373-73-7910      A     Yangon        Normal    Male   \n",
       "\n",
       "             Product line  Unit price  Quantity   Tax 5%     Total   Time  \\\n",
       "0       Health and beauty       74.69         7  26.1415  548.9715  13:08   \n",
       "1  Electronic accessories       15.28         5   3.8200   80.2200  10:29   \n",
       "2      Home and lifestyle       46.33         7  16.2155  340.5255  13:23   \n",
       "3       Health and beauty       58.22         8  23.2880  489.0480  20:33   \n",
       "4       Sports and travel       86.31         7  30.2085  634.3785  10:37   \n",
       "\n",
       "       Payment    cogs  gross_margin_perc  gross_income  Rating  \n",
       "0      Ewallet  522.83           4.761905       26.1415     9.1  \n",
       "1         Cash   76.40           4.761905        3.8200     9.6  \n",
       "2  Credit card  324.31           4.761905       16.2155     7.4  \n",
       "3      Ewallet  465.76           4.761905       23.2880     8.4  \n",
       "4      Ewallet  604.17           4.761905       30.2085     5.3  "
      ]
     },
     "execution_count": 31,
     "metadata": {},
     "output_type": "execute_result"
    }
   ],
   "source": [
    "df.reset_index(inplace=True)  #Date column is not there so we reset the index of the dataframe and store it again as df\n",
    "df.head()                     #calls out our dataframe head with top 5 rows"
   ]
  },
  {
   "cell_type": "code",
   "execution_count": 32,
   "id": "573c979b",
   "metadata": {},
   "outputs": [],
   "source": [
    "df['daynumber'] = df['Date'].dt.weekday  \n",
    "             #Returns the day number of the week using the date column and weekday function and creates a column daynumber in df\n",
    "df['weekday'] = df['Date'].dt.day_name()\n",
    "df['month']=df['Date'].dt.month\n",
    "             #Returns the weekday name using date column and day_name() functionality and creates a column weekday in dataframe"
   ]
  },
  {
   "cell_type": "code",
   "execution_count": 33,
   "id": "4b270b3a",
   "metadata": {},
   "outputs": [
    {
     "data": {
      "text/html": [
       "<div>\n",
       "<style scoped>\n",
       "    .dataframe tbody tr th:only-of-type {\n",
       "        vertical-align: middle;\n",
       "    }\n",
       "\n",
       "    .dataframe tbody tr th {\n",
       "        vertical-align: top;\n",
       "    }\n",
       "\n",
       "    .dataframe thead th {\n",
       "        text-align: right;\n",
       "    }\n",
       "</style>\n",
       "<table border=\"1\" class=\"dataframe\">\n",
       "  <thead>\n",
       "    <tr style=\"text-align: right;\">\n",
       "      <th></th>\n",
       "      <th>Date</th>\n",
       "      <th>Invoice ID</th>\n",
       "      <th>Branch</th>\n",
       "      <th>City</th>\n",
       "      <th>Customer type</th>\n",
       "      <th>Gender</th>\n",
       "      <th>Product line</th>\n",
       "      <th>Unit price</th>\n",
       "      <th>Quantity</th>\n",
       "      <th>Tax 5%</th>\n",
       "      <th>Total</th>\n",
       "      <th>Time</th>\n",
       "      <th>Payment</th>\n",
       "      <th>cogs</th>\n",
       "      <th>gross_margin_perc</th>\n",
       "      <th>gross_income</th>\n",
       "      <th>Rating</th>\n",
       "      <th>daynumber</th>\n",
       "      <th>weekday</th>\n",
       "      <th>month</th>\n",
       "    </tr>\n",
       "  </thead>\n",
       "  <tbody>\n",
       "    <tr>\n",
       "      <th>0</th>\n",
       "      <td>2019-01-05</td>\n",
       "      <td>750-67-8428</td>\n",
       "      <td>A</td>\n",
       "      <td>Yangon</td>\n",
       "      <td>Member</td>\n",
       "      <td>Female</td>\n",
       "      <td>Health and beauty</td>\n",
       "      <td>74.69</td>\n",
       "      <td>7</td>\n",
       "      <td>26.1415</td>\n",
       "      <td>548.9715</td>\n",
       "      <td>13:08</td>\n",
       "      <td>Ewallet</td>\n",
       "      <td>522.83</td>\n",
       "      <td>4.761905</td>\n",
       "      <td>26.1415</td>\n",
       "      <td>9.1</td>\n",
       "      <td>5</td>\n",
       "      <td>Saturday</td>\n",
       "      <td>1</td>\n",
       "    </tr>\n",
       "    <tr>\n",
       "      <th>1</th>\n",
       "      <td>2019-03-08</td>\n",
       "      <td>226-31-3081</td>\n",
       "      <td>C</td>\n",
       "      <td>Naypyitaw</td>\n",
       "      <td>Normal</td>\n",
       "      <td>Female</td>\n",
       "      <td>Electronic accessories</td>\n",
       "      <td>15.28</td>\n",
       "      <td>5</td>\n",
       "      <td>3.8200</td>\n",
       "      <td>80.2200</td>\n",
       "      <td>10:29</td>\n",
       "      <td>Cash</td>\n",
       "      <td>76.40</td>\n",
       "      <td>4.761905</td>\n",
       "      <td>3.8200</td>\n",
       "      <td>9.6</td>\n",
       "      <td>4</td>\n",
       "      <td>Friday</td>\n",
       "      <td>3</td>\n",
       "    </tr>\n",
       "    <tr>\n",
       "      <th>2</th>\n",
       "      <td>2019-03-03</td>\n",
       "      <td>631-41-3108</td>\n",
       "      <td>A</td>\n",
       "      <td>Yangon</td>\n",
       "      <td>Normal</td>\n",
       "      <td>Male</td>\n",
       "      <td>Home and lifestyle</td>\n",
       "      <td>46.33</td>\n",
       "      <td>7</td>\n",
       "      <td>16.2155</td>\n",
       "      <td>340.5255</td>\n",
       "      <td>13:23</td>\n",
       "      <td>Credit card</td>\n",
       "      <td>324.31</td>\n",
       "      <td>4.761905</td>\n",
       "      <td>16.2155</td>\n",
       "      <td>7.4</td>\n",
       "      <td>6</td>\n",
       "      <td>Sunday</td>\n",
       "      <td>3</td>\n",
       "    </tr>\n",
       "    <tr>\n",
       "      <th>3</th>\n",
       "      <td>2019-01-27</td>\n",
       "      <td>123-19-1176</td>\n",
       "      <td>A</td>\n",
       "      <td>Yangon</td>\n",
       "      <td>Member</td>\n",
       "      <td>Male</td>\n",
       "      <td>Health and beauty</td>\n",
       "      <td>58.22</td>\n",
       "      <td>8</td>\n",
       "      <td>23.2880</td>\n",
       "      <td>489.0480</td>\n",
       "      <td>20:33</td>\n",
       "      <td>Ewallet</td>\n",
       "      <td>465.76</td>\n",
       "      <td>4.761905</td>\n",
       "      <td>23.2880</td>\n",
       "      <td>8.4</td>\n",
       "      <td>6</td>\n",
       "      <td>Sunday</td>\n",
       "      <td>1</td>\n",
       "    </tr>\n",
       "    <tr>\n",
       "      <th>4</th>\n",
       "      <td>2019-02-08</td>\n",
       "      <td>373-73-7910</td>\n",
       "      <td>A</td>\n",
       "      <td>Yangon</td>\n",
       "      <td>Normal</td>\n",
       "      <td>Male</td>\n",
       "      <td>Sports and travel</td>\n",
       "      <td>86.31</td>\n",
       "      <td>7</td>\n",
       "      <td>30.2085</td>\n",
       "      <td>634.3785</td>\n",
       "      <td>10:37</td>\n",
       "      <td>Ewallet</td>\n",
       "      <td>604.17</td>\n",
       "      <td>4.761905</td>\n",
       "      <td>30.2085</td>\n",
       "      <td>5.3</td>\n",
       "      <td>4</td>\n",
       "      <td>Friday</td>\n",
       "      <td>2</td>\n",
       "    </tr>\n",
       "  </tbody>\n",
       "</table>\n",
       "</div>"
      ],
      "text/plain": [
       "        Date   Invoice ID Branch       City Customer type  Gender  \\\n",
       "0 2019-01-05  750-67-8428      A     Yangon        Member  Female   \n",
       "1 2019-03-08  226-31-3081      C  Naypyitaw        Normal  Female   \n",
       "2 2019-03-03  631-41-3108      A     Yangon        Normal    Male   \n",
       "3 2019-01-27  123-19-1176      A     Yangon        Member    Male   \n",
       "4 2019-02-08  373-73-7910      A     Yangon        Normal    Male   \n",
       "\n",
       "             Product line  Unit price  Quantity   Tax 5%     Total   Time  \\\n",
       "0       Health and beauty       74.69         7  26.1415  548.9715  13:08   \n",
       "1  Electronic accessories       15.28         5   3.8200   80.2200  10:29   \n",
       "2      Home and lifestyle       46.33         7  16.2155  340.5255  13:23   \n",
       "3       Health and beauty       58.22         8  23.2880  489.0480  20:33   \n",
       "4       Sports and travel       86.31         7  30.2085  634.3785  10:37   \n",
       "\n",
       "       Payment    cogs  gross_margin_perc  gross_income  Rating  daynumber  \\\n",
       "0      Ewallet  522.83           4.761905       26.1415     9.1          5   \n",
       "1         Cash   76.40           4.761905        3.8200     9.6          4   \n",
       "2  Credit card  324.31           4.761905       16.2155     7.4          6   \n",
       "3      Ewallet  465.76           4.761905       23.2880     8.4          6   \n",
       "4      Ewallet  604.17           4.761905       30.2085     5.3          4   \n",
       "\n",
       "    weekday  month  \n",
       "0  Saturday      1  \n",
       "1    Friday      3  \n",
       "2    Sunday      3  \n",
       "3    Sunday      1  \n",
       "4    Friday      2  "
      ]
     },
     "execution_count": 33,
     "metadata": {},
     "output_type": "execute_result"
    }
   ],
   "source": [
    "df.head()    #modified dataframe after adding the two columns"
   ]
  },
  {
   "cell_type": "code",
   "execution_count": 34,
   "id": "e6dd6c2c",
   "metadata": {},
   "outputs": [
    {
     "data": {
      "text/html": [
       "<div>\n",
       "<style scoped>\n",
       "    .dataframe tbody tr th:only-of-type {\n",
       "        vertical-align: middle;\n",
       "    }\n",
       "\n",
       "    .dataframe tbody tr th {\n",
       "        vertical-align: top;\n",
       "    }\n",
       "\n",
       "    .dataframe thead th {\n",
       "        text-align: right;\n",
       "    }\n",
       "</style>\n",
       "<table border=\"1\" class=\"dataframe\">\n",
       "  <thead>\n",
       "    <tr style=\"text-align: right;\">\n",
       "      <th></th>\n",
       "      <th>Unit price</th>\n",
       "      <th>Quantity</th>\n",
       "      <th>Tax 5%</th>\n",
       "      <th>Total</th>\n",
       "      <th>cogs</th>\n",
       "      <th>gross_margin_perc</th>\n",
       "      <th>gross_income</th>\n",
       "      <th>Rating</th>\n",
       "      <th>daynumber</th>\n",
       "      <th>month</th>\n",
       "    </tr>\n",
       "  </thead>\n",
       "  <tbody>\n",
       "    <tr>\n",
       "      <th>Unit price</th>\n",
       "      <td>1.000000</td>\n",
       "      <td>0.010778</td>\n",
       "      <td>0.633962</td>\n",
       "      <td>0.633962</td>\n",
       "      <td>0.633962</td>\n",
       "      <td>NaN</td>\n",
       "      <td>0.633962</td>\n",
       "      <td>-0.008778</td>\n",
       "      <td>-0.007040</td>\n",
       "      <td>-0.027387</td>\n",
       "    </tr>\n",
       "    <tr>\n",
       "      <th>Quantity</th>\n",
       "      <td>0.010778</td>\n",
       "      <td>1.000000</td>\n",
       "      <td>0.705510</td>\n",
       "      <td>0.705510</td>\n",
       "      <td>0.705510</td>\n",
       "      <td>NaN</td>\n",
       "      <td>0.705510</td>\n",
       "      <td>-0.015815</td>\n",
       "      <td>0.054770</td>\n",
       "      <td>-0.014524</td>\n",
       "    </tr>\n",
       "    <tr>\n",
       "      <th>Tax 5%</th>\n",
       "      <td>0.633962</td>\n",
       "      <td>0.705510</td>\n",
       "      <td>1.000000</td>\n",
       "      <td>1.000000</td>\n",
       "      <td>1.000000</td>\n",
       "      <td>NaN</td>\n",
       "      <td>1.000000</td>\n",
       "      <td>-0.036442</td>\n",
       "      <td>0.038809</td>\n",
       "      <td>-0.022301</td>\n",
       "    </tr>\n",
       "    <tr>\n",
       "      <th>Total</th>\n",
       "      <td>0.633962</td>\n",
       "      <td>0.705510</td>\n",
       "      <td>1.000000</td>\n",
       "      <td>1.000000</td>\n",
       "      <td>1.000000</td>\n",
       "      <td>NaN</td>\n",
       "      <td>1.000000</td>\n",
       "      <td>-0.036442</td>\n",
       "      <td>0.038809</td>\n",
       "      <td>-0.022301</td>\n",
       "    </tr>\n",
       "    <tr>\n",
       "      <th>cogs</th>\n",
       "      <td>0.633962</td>\n",
       "      <td>0.705510</td>\n",
       "      <td>1.000000</td>\n",
       "      <td>1.000000</td>\n",
       "      <td>1.000000</td>\n",
       "      <td>NaN</td>\n",
       "      <td>1.000000</td>\n",
       "      <td>-0.036442</td>\n",
       "      <td>0.038809</td>\n",
       "      <td>-0.022301</td>\n",
       "    </tr>\n",
       "    <tr>\n",
       "      <th>gross_margin_perc</th>\n",
       "      <td>NaN</td>\n",
       "      <td>NaN</td>\n",
       "      <td>NaN</td>\n",
       "      <td>NaN</td>\n",
       "      <td>NaN</td>\n",
       "      <td>NaN</td>\n",
       "      <td>NaN</td>\n",
       "      <td>NaN</td>\n",
       "      <td>NaN</td>\n",
       "      <td>NaN</td>\n",
       "    </tr>\n",
       "    <tr>\n",
       "      <th>gross_income</th>\n",
       "      <td>0.633962</td>\n",
       "      <td>0.705510</td>\n",
       "      <td>1.000000</td>\n",
       "      <td>1.000000</td>\n",
       "      <td>1.000000</td>\n",
       "      <td>NaN</td>\n",
       "      <td>1.000000</td>\n",
       "      <td>-0.036442</td>\n",
       "      <td>0.038809</td>\n",
       "      <td>-0.022301</td>\n",
       "    </tr>\n",
       "    <tr>\n",
       "      <th>Rating</th>\n",
       "      <td>-0.008778</td>\n",
       "      <td>-0.015815</td>\n",
       "      <td>-0.036442</td>\n",
       "      <td>-0.036442</td>\n",
       "      <td>-0.036442</td>\n",
       "      <td>NaN</td>\n",
       "      <td>-0.036442</td>\n",
       "      <td>1.000000</td>\n",
       "      <td>-0.013879</td>\n",
       "      <td>-0.042880</td>\n",
       "    </tr>\n",
       "    <tr>\n",
       "      <th>daynumber</th>\n",
       "      <td>-0.007040</td>\n",
       "      <td>0.054770</td>\n",
       "      <td>0.038809</td>\n",
       "      <td>0.038809</td>\n",
       "      <td>0.038809</td>\n",
       "      <td>NaN</td>\n",
       "      <td>0.038809</td>\n",
       "      <td>-0.013879</td>\n",
       "      <td>1.000000</td>\n",
       "      <td>0.035357</td>\n",
       "    </tr>\n",
       "    <tr>\n",
       "      <th>month</th>\n",
       "      <td>-0.027387</td>\n",
       "      <td>-0.014524</td>\n",
       "      <td>-0.022301</td>\n",
       "      <td>-0.022301</td>\n",
       "      <td>-0.022301</td>\n",
       "      <td>NaN</td>\n",
       "      <td>-0.022301</td>\n",
       "      <td>-0.042880</td>\n",
       "      <td>0.035357</td>\n",
       "      <td>1.000000</td>\n",
       "    </tr>\n",
       "  </tbody>\n",
       "</table>\n",
       "</div>"
      ],
      "text/plain": [
       "                   Unit price  Quantity    Tax 5%     Total      cogs  \\\n",
       "Unit price           1.000000  0.010778  0.633962  0.633962  0.633962   \n",
       "Quantity             0.010778  1.000000  0.705510  0.705510  0.705510   \n",
       "Tax 5%               0.633962  0.705510  1.000000  1.000000  1.000000   \n",
       "Total                0.633962  0.705510  1.000000  1.000000  1.000000   \n",
       "cogs                 0.633962  0.705510  1.000000  1.000000  1.000000   \n",
       "gross_margin_perc         NaN       NaN       NaN       NaN       NaN   \n",
       "gross_income         0.633962  0.705510  1.000000  1.000000  1.000000   \n",
       "Rating              -0.008778 -0.015815 -0.036442 -0.036442 -0.036442   \n",
       "daynumber           -0.007040  0.054770  0.038809  0.038809  0.038809   \n",
       "month               -0.027387 -0.014524 -0.022301 -0.022301 -0.022301   \n",
       "\n",
       "                   gross_margin_perc  gross_income    Rating  daynumber  \\\n",
       "Unit price                       NaN      0.633962 -0.008778  -0.007040   \n",
       "Quantity                         NaN      0.705510 -0.015815   0.054770   \n",
       "Tax 5%                           NaN      1.000000 -0.036442   0.038809   \n",
       "Total                            NaN      1.000000 -0.036442   0.038809   \n",
       "cogs                             NaN      1.000000 -0.036442   0.038809   \n",
       "gross_margin_perc                NaN           NaN       NaN        NaN   \n",
       "gross_income                     NaN      1.000000 -0.036442   0.038809   \n",
       "Rating                           NaN     -0.036442  1.000000  -0.013879   \n",
       "daynumber                        NaN      0.038809 -0.013879   1.000000   \n",
       "month                            NaN     -0.022301 -0.042880   0.035357   \n",
       "\n",
       "                      month  \n",
       "Unit price        -0.027387  \n",
       "Quantity          -0.014524  \n",
       "Tax 5%            -0.022301  \n",
       "Total             -0.022301  \n",
       "cogs              -0.022301  \n",
       "gross_margin_perc       NaN  \n",
       "gross_income      -0.022301  \n",
       "Rating            -0.042880  \n",
       "daynumber          0.035357  \n",
       "month              1.000000  "
      ]
     },
     "execution_count": 34,
     "metadata": {},
     "output_type": "execute_result"
    }
   ],
   "source": [
    "df.corr()"
   ]
  },
  {
   "cell_type": "code",
   "execution_count": 35,
   "id": "56cc4259",
   "metadata": {},
   "outputs": [
    {
     "data": {
      "text/plain": [
       "array([1, 3, 2], dtype=int64)"
      ]
     },
     "execution_count": 35,
     "metadata": {},
     "output_type": "execute_result"
    }
   ],
   "source": [
    "df['month'].unique()"
   ]
  },
  {
   "cell_type": "code",
   "execution_count": 36,
   "id": "80a6da3c",
   "metadata": {},
   "outputs": [
    {
     "data": {
      "text/html": [
       "<div>\n",
       "<style scoped>\n",
       "    .dataframe tbody tr th:only-of-type {\n",
       "        vertical-align: middle;\n",
       "    }\n",
       "\n",
       "    .dataframe tbody tr th {\n",
       "        vertical-align: top;\n",
       "    }\n",
       "\n",
       "    .dataframe thead th {\n",
       "        text-align: right;\n",
       "    }\n",
       "</style>\n",
       "<table border=\"1\" class=\"dataframe\">\n",
       "  <thead>\n",
       "    <tr style=\"text-align: right;\">\n",
       "      <th></th>\n",
       "      <th>Unit price</th>\n",
       "      <th>Quantity</th>\n",
       "      <th>Tax 5%</th>\n",
       "      <th>Total</th>\n",
       "      <th>cogs</th>\n",
       "      <th>gross_margin_perc</th>\n",
       "      <th>gross_income</th>\n",
       "      <th>Rating</th>\n",
       "      <th>daynumber</th>\n",
       "      <th>month</th>\n",
       "    </tr>\n",
       "    <tr>\n",
       "      <th>Gender</th>\n",
       "      <th></th>\n",
       "      <th></th>\n",
       "      <th></th>\n",
       "      <th></th>\n",
       "      <th></th>\n",
       "      <th></th>\n",
       "      <th></th>\n",
       "      <th></th>\n",
       "      <th></th>\n",
       "      <th></th>\n",
       "    </tr>\n",
       "  </thead>\n",
       "  <tbody>\n",
       "    <tr>\n",
       "      <th>Female</th>\n",
       "      <td>55.263952</td>\n",
       "      <td>5.726547</td>\n",
       "      <td>15.956936</td>\n",
       "      <td>335.095659</td>\n",
       "      <td>319.138723</td>\n",
       "      <td>4.761905</td>\n",
       "      <td>15.956936</td>\n",
       "      <td>6.964471</td>\n",
       "      <td>2.996008</td>\n",
       "      <td>1.970060</td>\n",
       "    </tr>\n",
       "    <tr>\n",
       "      <th>Male</th>\n",
       "      <td>56.081944</td>\n",
       "      <td>5.292585</td>\n",
       "      <td>14.799487</td>\n",
       "      <td>310.789226</td>\n",
       "      <td>295.989739</td>\n",
       "      <td>4.761905</td>\n",
       "      <td>14.799487</td>\n",
       "      <td>6.980962</td>\n",
       "      <td>3.068136</td>\n",
       "      <td>2.016032</td>\n",
       "    </tr>\n",
       "  </tbody>\n",
       "</table>\n",
       "</div>"
      ],
      "text/plain": [
       "        Unit price  Quantity     Tax 5%       Total        cogs  \\\n",
       "Gender                                                            \n",
       "Female   55.263952  5.726547  15.956936  335.095659  319.138723   \n",
       "Male     56.081944  5.292585  14.799487  310.789226  295.989739   \n",
       "\n",
       "        gross_margin_perc  gross_income    Rating  daynumber     month  \n",
       "Gender                                                                  \n",
       "Female           4.761905     15.956936  6.964471   2.996008  1.970060  \n",
       "Male             4.761905     14.799487  6.980962   3.068136  2.016032  "
      ]
     },
     "execution_count": 36,
     "metadata": {},
     "output_type": "execute_result"
    }
   ],
   "source": [
    "df.groupby('Gender').mean()"
   ]
  },
  {
   "cell_type": "code",
   "execution_count": 37,
   "id": "63a1e666",
   "metadata": {},
   "outputs": [
    {
     "name": "stderr",
     "output_type": "stream",
     "text": [
      "C:\\Users\\samee\\anaconda3\\lib\\site-packages\\seaborn\\distributions.py:2557: FutureWarning: `distplot` is a deprecated function and will be removed in a future version. Please adapt your code to use either `displot` (a figure-level function with similar flexibility) or `histplot` (an axes-level function for histograms).\n",
      "  warnings.warn(msg, FutureWarning)\n"
     ]
    },
    {
     "data": {
      "text/plain": [
       "<AxesSubplot:xlabel='Rating', ylabel='Density'>"
      ]
     },
     "execution_count": 37,
     "metadata": {},
     "output_type": "execute_result"
    },
    {
     "data": {
      "image/png": "[encoded data removed]",
      "text/plain": [
       "<Figure size 432x288 with 1 Axes>"
      ]
     },
     "metadata": {},
     "output_type": "display_data"
    }
   ],
   "source": [
    "sns.distplot(df['Rating'])"
   ]
  },
  {
   "cell_type": "code",
   "execution_count": 38,
   "id": "2c32519b",
   "metadata": {},
   "outputs": [
    {
     "data": {
      "text/plain": [
       "(array([102.,  93.,  89., 107., 108., 101., 105.,  99.,  91., 105.]),\n",
       " array([ 4. ,  4.6,  5.2,  5.8,  6.4,  7. ,  7.6,  8.2,  8.8,  9.4, 10. ]),\n",
       " <BarContainer object of 10 artists>)"
      ]
     },
     "execution_count": 38,
     "metadata": {},
     "output_type": "execute_result"
    },
    {
     "data": {
      "image/png": "[encoded data removed]",
      "text/plain": [
       "<Figure size 432x288 with 1 Axes>"
      ]
     },
     "metadata": {},
     "output_type": "display_data"
    }
   ],
   "source": [
    "plt.hist(df['Rating'])"
   ]
  },
  {
   "cell_type": "code",
   "execution_count": 39,
   "id": "09392a65",
   "metadata": {},
   "outputs": [
    {
     "data": {
      "text/plain": [
       "<AxesSubplot:xlabel='Total', ylabel='City'>"
      ]
     },
     "execution_count": 39,
     "metadata": {},
     "output_type": "execute_result"
    },
    {
     "data": {
      "image/png": "[encoded data removed]",
      "text/plain": [
       "<Figure size 432x288 with 1 Axes>"
      ]
     },
     "metadata": {},
     "output_type": "display_data"
    }
   ],
   "source": [
    "sns.barplot(x='Total',y='City',hue='month',data=df)"
   ]
  },
  {
   "cell_type": "code",
   "execution_count": 40,
   "id": "a40d633a",
   "metadata": {},
   "outputs": [
    {
     "data": {
      "text/html": [
       "<div>\n",
       "<style scoped>\n",
       "    .dataframe tbody tr th:only-of-type {\n",
       "        vertical-align: middle;\n",
       "    }\n",
       "\n",
       "    .dataframe tbody tr th {\n",
       "        vertical-align: top;\n",
       "    }\n",
       "\n",
       "    .dataframe thead th {\n",
       "        text-align: right;\n",
       "    }\n",
       "</style>\n",
       "<table border=\"1\" class=\"dataframe\">\n",
       "  <thead>\n",
       "    <tr style=\"text-align: right;\">\n",
       "      <th></th>\n",
       "      <th>Unit price</th>\n",
       "      <th>Quantity</th>\n",
       "      <th>Tax 5%</th>\n",
       "      <th>Total</th>\n",
       "      <th>cogs</th>\n",
       "      <th>gross_margin_perc</th>\n",
       "      <th>gross_income</th>\n",
       "      <th>Rating</th>\n",
       "      <th>daynumber</th>\n",
       "      <th>month</th>\n",
       "    </tr>\n",
       "    <tr>\n",
       "      <th>Customer type</th>\n",
       "      <th></th>\n",
       "      <th></th>\n",
       "      <th></th>\n",
       "      <th></th>\n",
       "      <th></th>\n",
       "      <th></th>\n",
       "      <th></th>\n",
       "      <th></th>\n",
       "      <th></th>\n",
       "      <th></th>\n",
       "    </tr>\n",
       "  </thead>\n",
       "  <tbody>\n",
       "    <tr>\n",
       "      <th>Member</th>\n",
       "      <td>28159.70</td>\n",
       "      <td>2785</td>\n",
       "      <td>7820.164</td>\n",
       "      <td>164223.444</td>\n",
       "      <td>156403.28</td>\n",
       "      <td>2385.714286</td>\n",
       "      <td>7820.164</td>\n",
       "      <td>3477.1</td>\n",
       "      <td>1496</td>\n",
       "      <td>996</td>\n",
       "    </tr>\n",
       "    <tr>\n",
       "      <th>Normal</th>\n",
       "      <td>27512.43</td>\n",
       "      <td>2725</td>\n",
       "      <td>7559.205</td>\n",
       "      <td>158743.305</td>\n",
       "      <td>151184.10</td>\n",
       "      <td>2376.190476</td>\n",
       "      <td>7559.205</td>\n",
       "      <td>3495.6</td>\n",
       "      <td>1536</td>\n",
       "      <td>997</td>\n",
       "    </tr>\n",
       "  </tbody>\n",
       "</table>\n",
       "</div>"
      ],
      "text/plain": [
       "               Unit price  Quantity    Tax 5%       Total       cogs  \\\n",
       "Customer type                                                          \n",
       "Member           28159.70      2785  7820.164  164223.444  156403.28   \n",
       "Normal           27512.43      2725  7559.205  158743.305  151184.10   \n",
       "\n",
       "               gross_margin_perc  gross_income  Rating  daynumber  month  \n",
       "Customer type                                                             \n",
       "Member               2385.714286      7820.164  3477.1       1496    996  \n",
       "Normal               2376.190476      7559.205  3495.6       1536    997  "
      ]
     },
     "execution_count": 40,
     "metadata": {},
     "output_type": "execute_result"
    }
   ],
   "source": [
    "df.groupby('Customer type').sum()"
   ]
  },
  {
   "cell_type": "code",
   "execution_count": 41,
   "id": "8c41ac59",
   "metadata": {},
   "outputs": [
    {
     "data": {
      "text/plain": [
       "0.5084838651746624"
      ]
     },
     "execution_count": 41,
     "metadata": {},
     "output_type": "execute_result"
    }
   ],
   "source": [
    "164223/(164223+158743)"
   ]
  },
  {
   "cell_type": "code",
   "execution_count": 42,
   "id": "df43d69d",
   "metadata": {},
   "outputs": [
    {
     "data": {
      "text/plain": [
       "<AxesSubplot:xlabel='weekday', ylabel='count'>"
      ]
     },
     "execution_count": 42,
     "metadata": {},
     "output_type": "execute_result"
    },
    {
     "data": {
      "image/png": "[encoded data removed]",
      "text/plain": [
       "<Figure size 720x288 with 1 Axes>"
      ]
     },
     "metadata": {},
     "output_type": "display_data"
    }
   ],
   "source": [
    "plt.figure(figsize=(10,4))          #defines the figure size of the plot\n",
    "sns.countplot(x='weekday',data=df)  #used countplot to find the count of visitors in respective days"
   ]
  },
  {
   "cell_type": "markdown",
   "id": "1987f6cd",
   "metadata": {},
   "source": [
    "                #inference: Here day of week is categorical value and from the above plot it can be inferred that saturday the count is higher means more customers visit on Saturday and each customer buys some quantity and thus sales is maximum on saturday. Tuesday is the second most day where sales is high comparatibly from other days except saturday, and Monday is the day of the week which has minimum number of sales :one reason could be that it is the starting day of the week and usually customers planned on weekends to buy.  "
   ]
  },
  {
   "cell_type": "markdown",
   "id": "539080d0",
   "metadata": {},
   "source": [
    "#### Which hour of the day is busiest? "
   ]
  },
  {
   "cell_type": "code",
   "execution_count": 43,
   "id": "0a3efb10",
   "metadata": {},
   "outputs": [
    {
     "data": {
      "text/html": [
       "<div>\n",
       "<style scoped>\n",
       "    .dataframe tbody tr th:only-of-type {\n",
       "        vertical-align: middle;\n",
       "    }\n",
       "\n",
       "    .dataframe tbody tr th {\n",
       "        vertical-align: top;\n",
       "    }\n",
       "\n",
       "    .dataframe thead th {\n",
       "        text-align: right;\n",
       "    }\n",
       "</style>\n",
       "<table border=\"1\" class=\"dataframe\">\n",
       "  <thead>\n",
       "    <tr style=\"text-align: right;\">\n",
       "      <th></th>\n",
       "      <th>Date</th>\n",
       "      <th>Invoice ID</th>\n",
       "      <th>Branch</th>\n",
       "      <th>City</th>\n",
       "      <th>Customer type</th>\n",
       "      <th>Gender</th>\n",
       "      <th>Product line</th>\n",
       "      <th>Unit price</th>\n",
       "      <th>Quantity</th>\n",
       "      <th>Tax 5%</th>\n",
       "      <th>Total</th>\n",
       "      <th>Time</th>\n",
       "      <th>Payment</th>\n",
       "      <th>cogs</th>\n",
       "      <th>gross_margin_perc</th>\n",
       "      <th>gross_income</th>\n",
       "      <th>Rating</th>\n",
       "      <th>daynumber</th>\n",
       "      <th>weekday</th>\n",
       "      <th>month</th>\n",
       "    </tr>\n",
       "  </thead>\n",
       "  <tbody>\n",
       "    <tr>\n",
       "      <th>0</th>\n",
       "      <td>2019-01-05</td>\n",
       "      <td>750-67-8428</td>\n",
       "      <td>A</td>\n",
       "      <td>Yangon</td>\n",
       "      <td>Member</td>\n",
       "      <td>Female</td>\n",
       "      <td>Health and beauty</td>\n",
       "      <td>74.69</td>\n",
       "      <td>7</td>\n",
       "      <td>26.1415</td>\n",
       "      <td>548.9715</td>\n",
       "      <td>2021-11-30 13:08:00</td>\n",
       "      <td>Ewallet</td>\n",
       "      <td>522.83</td>\n",
       "      <td>4.761905</td>\n",
       "      <td>26.1415</td>\n",
       "      <td>9.1</td>\n",
       "      <td>5</td>\n",
       "      <td>Saturday</td>\n",
       "      <td>1</td>\n",
       "    </tr>\n",
       "    <tr>\n",
       "      <th>1</th>\n",
       "      <td>2019-03-08</td>\n",
       "      <td>226-31-3081</td>\n",
       "      <td>C</td>\n",
       "      <td>Naypyitaw</td>\n",
       "      <td>Normal</td>\n",
       "      <td>Female</td>\n",
       "      <td>Electronic accessories</td>\n",
       "      <td>15.28</td>\n",
       "      <td>5</td>\n",
       "      <td>3.8200</td>\n",
       "      <td>80.2200</td>\n",
       "      <td>2021-11-30 10:29:00</td>\n",
       "      <td>Cash</td>\n",
       "      <td>76.40</td>\n",
       "      <td>4.761905</td>\n",
       "      <td>3.8200</td>\n",
       "      <td>9.6</td>\n",
       "      <td>4</td>\n",
       "      <td>Friday</td>\n",
       "      <td>3</td>\n",
       "    </tr>\n",
       "    <tr>\n",
       "      <th>2</th>\n",
       "      <td>2019-03-03</td>\n",
       "      <td>631-41-3108</td>\n",
       "      <td>A</td>\n",
       "      <td>Yangon</td>\n",
       "      <td>Normal</td>\n",
       "      <td>Male</td>\n",
       "      <td>Home and lifestyle</td>\n",
       "      <td>46.33</td>\n",
       "      <td>7</td>\n",
       "      <td>16.2155</td>\n",
       "      <td>340.5255</td>\n",
       "      <td>2021-11-30 13:23:00</td>\n",
       "      <td>Credit card</td>\n",
       "      <td>324.31</td>\n",
       "      <td>4.761905</td>\n",
       "      <td>16.2155</td>\n",
       "      <td>7.4</td>\n",
       "      <td>6</td>\n",
       "      <td>Sunday</td>\n",
       "      <td>3</td>\n",
       "    </tr>\n",
       "    <tr>\n",
       "      <th>3</th>\n",
       "      <td>2019-01-27</td>\n",
       "      <td>123-19-1176</td>\n",
       "      <td>A</td>\n",
       "      <td>Yangon</td>\n",
       "      <td>Member</td>\n",
       "      <td>Male</td>\n",
       "      <td>Health and beauty</td>\n",
       "      <td>58.22</td>\n",
       "      <td>8</td>\n",
       "      <td>23.2880</td>\n",
       "      <td>489.0480</td>\n",
       "      <td>2021-11-30 20:33:00</td>\n",
       "      <td>Ewallet</td>\n",
       "      <td>465.76</td>\n",
       "      <td>4.761905</td>\n",
       "      <td>23.2880</td>\n",
       "      <td>8.4</td>\n",
       "      <td>6</td>\n",
       "      <td>Sunday</td>\n",
       "      <td>1</td>\n",
       "    </tr>\n",
       "    <tr>\n",
       "      <th>4</th>\n",
       "      <td>2019-02-08</td>\n",
       "      <td>373-73-7910</td>\n",
       "      <td>A</td>\n",
       "      <td>Yangon</td>\n",
       "      <td>Normal</td>\n",
       "      <td>Male</td>\n",
       "      <td>Sports and travel</td>\n",
       "      <td>86.31</td>\n",
       "      <td>7</td>\n",
       "      <td>30.2085</td>\n",
       "      <td>634.3785</td>\n",
       "      <td>2021-11-30 10:37:00</td>\n",
       "      <td>Ewallet</td>\n",
       "      <td>604.17</td>\n",
       "      <td>4.761905</td>\n",
       "      <td>30.2085</td>\n",
       "      <td>5.3</td>\n",
       "      <td>4</td>\n",
       "      <td>Friday</td>\n",
       "      <td>2</td>\n",
       "    </tr>\n",
       "  </tbody>\n",
       "</table>\n",
       "</div>"
      ],
      "text/plain": [
       "        Date   Invoice ID Branch       City Customer type  Gender  \\\n",
       "0 2019-01-05  750-67-8428      A     Yangon        Member  Female   \n",
       "1 2019-03-08  226-31-3081      C  Naypyitaw        Normal  Female   \n",
       "2 2019-03-03  631-41-3108      A     Yangon        Normal    Male   \n",
       "3 2019-01-27  123-19-1176      A     Yangon        Member    Male   \n",
       "4 2019-02-08  373-73-7910      A     Yangon        Normal    Male   \n",
       "\n",
       "             Product line  Unit price  Quantity   Tax 5%     Total  \\\n",
       "0       Health and beauty       74.69         7  26.1415  548.9715   \n",
       "1  Electronic accessories       15.28         5   3.8200   80.2200   \n",
       "2      Home and lifestyle       46.33         7  16.2155  340.5255   \n",
       "3       Health and beauty       58.22         8  23.2880  489.0480   \n",
       "4       Sports and travel       86.31         7  30.2085  634.3785   \n",
       "\n",
       "                 Time      Payment    cogs  gross_margin_perc  gross_income  \\\n",
       "0 2021-11-30 13:08:00      Ewallet  522.83           4.761905       26.1415   \n",
       "1 2021-11-30 10:29:00         Cash   76.40           4.761905        3.8200   \n",
       "2 2021-11-30 13:23:00  Credit card  324.31           4.761905       16.2155   \n",
       "3 2021-11-30 20:33:00      Ewallet  465.76           4.761905       23.2880   \n",
       "4 2021-11-30 10:37:00      Ewallet  604.17           4.761905       30.2085   \n",
       "\n",
       "   Rating  daynumber   weekday  month  \n",
       "0     9.1          5  Saturday      1  \n",
       "1     9.6          4    Friday      3  \n",
       "2     7.4          6    Sunday      3  \n",
       "3     8.4          6    Sunday      1  \n",
       "4     5.3          4    Friday      2  "
      ]
     },
     "execution_count": 43,
     "metadata": {},
     "output_type": "execute_result"
    }
   ],
   "source": [
    "df['Time'] = pd.to_datetime(df['Time']) \n",
    "                    #our time column initially is an object so to convert in datetime datatype is required to perform operations\n",
    "df.head()           #dataframe"
   ]
  },
  {
   "cell_type": "code",
   "execution_count": 44,
   "id": "b981b7e0",
   "metadata": {},
   "outputs": [
    {
     "data": {
      "text/html": [
       "<div>\n",
       "<style scoped>\n",
       "    .dataframe tbody tr th:only-of-type {\n",
       "        vertical-align: middle;\n",
       "    }\n",
       "\n",
       "    .dataframe tbody tr th {\n",
       "        vertical-align: top;\n",
       "    }\n",
       "\n",
       "    .dataframe thead th {\n",
       "        text-align: right;\n",
       "    }\n",
       "</style>\n",
       "<table border=\"1\" class=\"dataframe\">\n",
       "  <thead>\n",
       "    <tr style=\"text-align: right;\">\n",
       "      <th></th>\n",
       "      <th>Date</th>\n",
       "      <th>Invoice ID</th>\n",
       "      <th>Branch</th>\n",
       "      <th>City</th>\n",
       "      <th>Customer type</th>\n",
       "      <th>Gender</th>\n",
       "      <th>Product line</th>\n",
       "      <th>Unit price</th>\n",
       "      <th>Quantity</th>\n",
       "      <th>Tax 5%</th>\n",
       "      <th>...</th>\n",
       "      <th>Payment</th>\n",
       "      <th>cogs</th>\n",
       "      <th>gross_margin_perc</th>\n",
       "      <th>gross_income</th>\n",
       "      <th>Rating</th>\n",
       "      <th>daynumber</th>\n",
       "      <th>weekday</th>\n",
       "      <th>month</th>\n",
       "      <th>hour</th>\n",
       "      <th>minute</th>\n",
       "    </tr>\n",
       "  </thead>\n",
       "  <tbody>\n",
       "    <tr>\n",
       "      <th>0</th>\n",
       "      <td>2019-01-05</td>\n",
       "      <td>750-67-8428</td>\n",
       "      <td>A</td>\n",
       "      <td>Yangon</td>\n",
       "      <td>Member</td>\n",
       "      <td>Female</td>\n",
       "      <td>Health and beauty</td>\n",
       "      <td>74.69</td>\n",
       "      <td>7</td>\n",
       "      <td>26.1415</td>\n",
       "      <td>...</td>\n",
       "      <td>Ewallet</td>\n",
       "      <td>522.83</td>\n",
       "      <td>4.761905</td>\n",
       "      <td>26.1415</td>\n",
       "      <td>9.1</td>\n",
       "      <td>5</td>\n",
       "      <td>Saturday</td>\n",
       "      <td>1</td>\n",
       "      <td>13</td>\n",
       "      <td>8</td>\n",
       "    </tr>\n",
       "    <tr>\n",
       "      <th>1</th>\n",
       "      <td>2019-03-08</td>\n",
       "      <td>226-31-3081</td>\n",
       "      <td>C</td>\n",
       "      <td>Naypyitaw</td>\n",
       "      <td>Normal</td>\n",
       "      <td>Female</td>\n",
       "      <td>Electronic accessories</td>\n",
       "      <td>15.28</td>\n",
       "      <td>5</td>\n",
       "      <td>3.8200</td>\n",
       "      <td>...</td>\n",
       "      <td>Cash</td>\n",
       "      <td>76.40</td>\n",
       "      <td>4.761905</td>\n",
       "      <td>3.8200</td>\n",
       "      <td>9.6</td>\n",
       "      <td>4</td>\n",
       "      <td>Friday</td>\n",
       "      <td>3</td>\n",
       "      <td>10</td>\n",
       "      <td>29</td>\n",
       "    </tr>\n",
       "    <tr>\n",
       "      <th>2</th>\n",
       "      <td>2019-03-03</td>\n",
       "      <td>631-41-3108</td>\n",
       "      <td>A</td>\n",
       "      <td>Yangon</td>\n",
       "      <td>Normal</td>\n",
       "      <td>Male</td>\n",
       "      <td>Home and lifestyle</td>\n",
       "      <td>46.33</td>\n",
       "      <td>7</td>\n",
       "      <td>16.2155</td>\n",
       "      <td>...</td>\n",
       "      <td>Credit card</td>\n",
       "      <td>324.31</td>\n",
       "      <td>4.761905</td>\n",
       "      <td>16.2155</td>\n",
       "      <td>7.4</td>\n",
       "      <td>6</td>\n",
       "      <td>Sunday</td>\n",
       "      <td>3</td>\n",
       "      <td>13</td>\n",
       "      <td>23</td>\n",
       "    </tr>\n",
       "    <tr>\n",
       "      <th>3</th>\n",
       "      <td>2019-01-27</td>\n",
       "      <td>123-19-1176</td>\n",
       "      <td>A</td>\n",
       "      <td>Yangon</td>\n",
       "      <td>Member</td>\n",
       "      <td>Male</td>\n",
       "      <td>Health and beauty</td>\n",
       "      <td>58.22</td>\n",
       "      <td>8</td>\n",
       "      <td>23.2880</td>\n",
       "      <td>...</td>\n",
       "      <td>Ewallet</td>\n",
       "      <td>465.76</td>\n",
       "      <td>4.761905</td>\n",
       "      <td>23.2880</td>\n",
       "      <td>8.4</td>\n",
       "      <td>6</td>\n",
       "      <td>Sunday</td>\n",
       "      <td>1</td>\n",
       "      <td>20</td>\n",
       "      <td>33</td>\n",
       "    </tr>\n",
       "    <tr>\n",
       "      <th>4</th>\n",
       "      <td>2019-02-08</td>\n",
       "      <td>373-73-7910</td>\n",
       "      <td>A</td>\n",
       "      <td>Yangon</td>\n",
       "      <td>Normal</td>\n",
       "      <td>Male</td>\n",
       "      <td>Sports and travel</td>\n",
       "      <td>86.31</td>\n",
       "      <td>7</td>\n",
       "      <td>30.2085</td>\n",
       "      <td>...</td>\n",
       "      <td>Ewallet</td>\n",
       "      <td>604.17</td>\n",
       "      <td>4.761905</td>\n",
       "      <td>30.2085</td>\n",
       "      <td>5.3</td>\n",
       "      <td>4</td>\n",
       "      <td>Friday</td>\n",
       "      <td>2</td>\n",
       "      <td>10</td>\n",
       "      <td>37</td>\n",
       "    </tr>\n",
       "  </tbody>\n",
       "</table>\n",
       "<p>5 rows × 22 columns</p>\n",
       "</div>"
      ],
      "text/plain": [
       "        Date   Invoice ID Branch       City Customer type  Gender  \\\n",
       "0 2019-01-05  750-67-8428      A     Yangon        Member  Female   \n",
       "1 2019-03-08  226-31-3081      C  Naypyitaw        Normal  Female   \n",
       "2 2019-03-03  631-41-3108      A     Yangon        Normal    Male   \n",
       "3 2019-01-27  123-19-1176      A     Yangon        Member    Male   \n",
       "4 2019-02-08  373-73-7910      A     Yangon        Normal    Male   \n",
       "\n",
       "             Product line  Unit price  Quantity   Tax 5%  ...      Payment  \\\n",
       "0       Health and beauty       74.69         7  26.1415  ...      Ewallet   \n",
       "1  Electronic accessories       15.28         5   3.8200  ...         Cash   \n",
       "2      Home and lifestyle       46.33         7  16.2155  ...  Credit card   \n",
       "3       Health and beauty       58.22         8  23.2880  ...      Ewallet   \n",
       "4       Sports and travel       86.31         7  30.2085  ...      Ewallet   \n",
       "\n",
       "     cogs gross_margin_perc  gross_income  Rating  daynumber   weekday  month  \\\n",
       "0  522.83          4.761905       26.1415     9.1          5  Saturday      1   \n",
       "1   76.40          4.761905        3.8200     9.6          4    Friday      3   \n",
       "2  324.31          4.761905       16.2155     7.4          6    Sunday      3   \n",
       "3  465.76          4.761905       23.2880     8.4          6    Sunday      1   \n",
       "4  604.17          4.761905       30.2085     5.3          4    Friday      2   \n",
       "\n",
       "  hour  minute  \n",
       "0   13       8  \n",
       "1   10      29  \n",
       "2   13      23  \n",
       "3   20      33  \n",
       "4   10      37  \n",
       "\n",
       "[5 rows x 22 columns]"
      ]
     },
     "execution_count": 44,
     "metadata": {},
     "output_type": "execute_result"
    }
   ],
   "source": [
    "df['hour']=df['Time'].dt.hour\n",
    "df['minute']=df['Time'].dt.minute\n",
    "                            #Now I want to extract the hour part from the time column and store it under a new column named hour\n",
    "df.head()                   #dataframe with hour column in the last"
   ]
  },
  {
   "cell_type": "code",
   "execution_count": 45,
   "id": "0493c8af",
   "metadata": {},
   "outputs": [
    {
     "name": "stdout",
     "output_type": "stream",
     "text": [
      "<class 'pandas.core.frame.DataFrame'>\n",
      "RangeIndex: 1000 entries, 0 to 999\n",
      "Data columns (total 22 columns):\n",
      " #   Column             Non-Null Count  Dtype         \n",
      "---  ------             --------------  -----         \n",
      " 0   Date               1000 non-null   datetime64[ns]\n",
      " 1   Invoice ID         1000 non-null   object        \n",
      " 2   Branch             1000 non-null   object        \n",
      " 3   City               1000 non-null   object        \n",
      " 4   Customer type      1000 non-null   object        \n",
      " 5   Gender             1000 non-null   object        \n",
      " 6   Product line       1000 non-null   object        \n",
      " 7   Unit price         1000 non-null   float64       \n",
      " 8   Quantity           1000 non-null   int64         \n",
      " 9   Tax 5%             1000 non-null   float64       \n",
      " 10  Total              1000 non-null   float64       \n",
      " 11  Time               1000 non-null   datetime64[ns]\n",
      " 12  Payment            1000 non-null   object        \n",
      " 13  cogs               1000 non-null   float64       \n",
      " 14  gross_margin_perc  1000 non-null   float64       \n",
      " 15  gross_income       1000 non-null   float64       \n",
      " 16  Rating             1000 non-null   float64       \n",
      " 17  daynumber          1000 non-null   int64         \n",
      " 18  weekday            1000 non-null   object        \n",
      " 19  month              1000 non-null   int64         \n",
      " 20  hour               1000 non-null   int64         \n",
      " 21  minute             1000 non-null   int64         \n",
      "dtypes: datetime64[ns](2), float64(7), int64(5), object(8)\n",
      "memory usage: 172.0+ KB\n"
     ]
    }
   ],
   "source": [
    "df.info()"
   ]
  },
  {
   "cell_type": "code",
   "execution_count": 46,
   "id": "c050691c",
   "metadata": {},
   "outputs": [
    {
     "data": {
      "text/html": [
       "<div>\n",
       "<style scoped>\n",
       "    .dataframe tbody tr th:only-of-type {\n",
       "        vertical-align: middle;\n",
       "    }\n",
       "\n",
       "    .dataframe tbody tr th {\n",
       "        vertical-align: top;\n",
       "    }\n",
       "\n",
       "    .dataframe thead th {\n",
       "        text-align: right;\n",
       "    }\n",
       "</style>\n",
       "<table border=\"1\" class=\"dataframe\">\n",
       "  <thead>\n",
       "    <tr style=\"text-align: right;\">\n",
       "      <th></th>\n",
       "      <th>Date</th>\n",
       "      <th>Invoice ID</th>\n",
       "      <th>Branch</th>\n",
       "      <th>City</th>\n",
       "      <th>Customer type</th>\n",
       "      <th>Gender</th>\n",
       "      <th>Product line</th>\n",
       "      <th>Unit price</th>\n",
       "      <th>Quantity</th>\n",
       "      <th>Tax 5%</th>\n",
       "      <th>...</th>\n",
       "      <th>Payment</th>\n",
       "      <th>cogs</th>\n",
       "      <th>gross_margin_perc</th>\n",
       "      <th>gross_income</th>\n",
       "      <th>Rating</th>\n",
       "      <th>daynumber</th>\n",
       "      <th>weekday</th>\n",
       "      <th>month</th>\n",
       "      <th>hour</th>\n",
       "      <th>minute</th>\n",
       "    </tr>\n",
       "  </thead>\n",
       "  <tbody>\n",
       "    <tr>\n",
       "      <th>0</th>\n",
       "      <td>2019-01-05</td>\n",
       "      <td>750-67-8428</td>\n",
       "      <td>A</td>\n",
       "      <td>Yangon</td>\n",
       "      <td>Member</td>\n",
       "      <td>Female</td>\n",
       "      <td>Health and beauty</td>\n",
       "      <td>74.69</td>\n",
       "      <td>7</td>\n",
       "      <td>26.1415</td>\n",
       "      <td>...</td>\n",
       "      <td>Ewallet</td>\n",
       "      <td>522.83</td>\n",
       "      <td>4.761905</td>\n",
       "      <td>26.1415</td>\n",
       "      <td>9.1</td>\n",
       "      <td>5</td>\n",
       "      <td>Saturday</td>\n",
       "      <td>1</td>\n",
       "      <td>13</td>\n",
       "      <td>8</td>\n",
       "    </tr>\n",
       "    <tr>\n",
       "      <th>1</th>\n",
       "      <td>2019-03-08</td>\n",
       "      <td>226-31-3081</td>\n",
       "      <td>C</td>\n",
       "      <td>Naypyitaw</td>\n",
       "      <td>Normal</td>\n",
       "      <td>Female</td>\n",
       "      <td>Electronic accessories</td>\n",
       "      <td>15.28</td>\n",
       "      <td>5</td>\n",
       "      <td>3.8200</td>\n",
       "      <td>...</td>\n",
       "      <td>Cash</td>\n",
       "      <td>76.40</td>\n",
       "      <td>4.761905</td>\n",
       "      <td>3.8200</td>\n",
       "      <td>9.6</td>\n",
       "      <td>4</td>\n",
       "      <td>Friday</td>\n",
       "      <td>3</td>\n",
       "      <td>10</td>\n",
       "      <td>29</td>\n",
       "    </tr>\n",
       "    <tr>\n",
       "      <th>6</th>\n",
       "      <td>2019-02-25</td>\n",
       "      <td>355-53-5943</td>\n",
       "      <td>A</td>\n",
       "      <td>Yangon</td>\n",
       "      <td>Member</td>\n",
       "      <td>Female</td>\n",
       "      <td>Electronic accessories</td>\n",
       "      <td>68.84</td>\n",
       "      <td>6</td>\n",
       "      <td>20.6520</td>\n",
       "      <td>...</td>\n",
       "      <td>Ewallet</td>\n",
       "      <td>413.04</td>\n",
       "      <td>4.761905</td>\n",
       "      <td>20.6520</td>\n",
       "      <td>5.8</td>\n",
       "      <td>0</td>\n",
       "      <td>Monday</td>\n",
       "      <td>2</td>\n",
       "      <td>14</td>\n",
       "      <td>36</td>\n",
       "    </tr>\n",
       "    <tr>\n",
       "      <th>7</th>\n",
       "      <td>2019-02-24</td>\n",
       "      <td>315-22-5665</td>\n",
       "      <td>C</td>\n",
       "      <td>Naypyitaw</td>\n",
       "      <td>Normal</td>\n",
       "      <td>Female</td>\n",
       "      <td>Home and lifestyle</td>\n",
       "      <td>73.56</td>\n",
       "      <td>10</td>\n",
       "      <td>36.7800</td>\n",
       "      <td>...</td>\n",
       "      <td>Ewallet</td>\n",
       "      <td>735.60</td>\n",
       "      <td>4.761905</td>\n",
       "      <td>36.7800</td>\n",
       "      <td>8.0</td>\n",
       "      <td>6</td>\n",
       "      <td>Sunday</td>\n",
       "      <td>2</td>\n",
       "      <td>11</td>\n",
       "      <td>38</td>\n",
       "    </tr>\n",
       "    <tr>\n",
       "      <th>8</th>\n",
       "      <td>2019-01-10</td>\n",
       "      <td>665-32-9167</td>\n",
       "      <td>A</td>\n",
       "      <td>Yangon</td>\n",
       "      <td>Member</td>\n",
       "      <td>Female</td>\n",
       "      <td>Health and beauty</td>\n",
       "      <td>36.26</td>\n",
       "      <td>2</td>\n",
       "      <td>3.6260</td>\n",
       "      <td>...</td>\n",
       "      <td>Credit card</td>\n",
       "      <td>72.52</td>\n",
       "      <td>4.761905</td>\n",
       "      <td>3.6260</td>\n",
       "      <td>7.2</td>\n",
       "      <td>3</td>\n",
       "      <td>Thursday</td>\n",
       "      <td>1</td>\n",
       "      <td>17</td>\n",
       "      <td>15</td>\n",
       "    </tr>\n",
       "    <tr>\n",
       "      <th>...</th>\n",
       "      <td>...</td>\n",
       "      <td>...</td>\n",
       "      <td>...</td>\n",
       "      <td>...</td>\n",
       "      <td>...</td>\n",
       "      <td>...</td>\n",
       "      <td>...</td>\n",
       "      <td>...</td>\n",
       "      <td>...</td>\n",
       "      <td>...</td>\n",
       "      <td>...</td>\n",
       "      <td>...</td>\n",
       "      <td>...</td>\n",
       "      <td>...</td>\n",
       "      <td>...</td>\n",
       "      <td>...</td>\n",
       "      <td>...</td>\n",
       "      <td>...</td>\n",
       "      <td>...</td>\n",
       "      <td>...</td>\n",
       "      <td>...</td>\n",
       "    </tr>\n",
       "    <tr>\n",
       "      <th>990</th>\n",
       "      <td>2019-03-22</td>\n",
       "      <td>886-18-2897</td>\n",
       "      <td>A</td>\n",
       "      <td>Yangon</td>\n",
       "      <td>Normal</td>\n",
       "      <td>Female</td>\n",
       "      <td>Food and beverages</td>\n",
       "      <td>56.56</td>\n",
       "      <td>5</td>\n",
       "      <td>14.1400</td>\n",
       "      <td>...</td>\n",
       "      <td>Credit card</td>\n",
       "      <td>282.80</td>\n",
       "      <td>4.761905</td>\n",
       "      <td>14.1400</td>\n",
       "      <td>4.5</td>\n",
       "      <td>4</td>\n",
       "      <td>Friday</td>\n",
       "      <td>3</td>\n",
       "      <td>19</td>\n",
       "      <td>6</td>\n",
       "    </tr>\n",
       "    <tr>\n",
       "      <th>991</th>\n",
       "      <td>2019-01-24</td>\n",
       "      <td>602-16-6955</td>\n",
       "      <td>B</td>\n",
       "      <td>Mandalay</td>\n",
       "      <td>Normal</td>\n",
       "      <td>Female</td>\n",
       "      <td>Sports and travel</td>\n",
       "      <td>76.60</td>\n",
       "      <td>10</td>\n",
       "      <td>38.3000</td>\n",
       "      <td>...</td>\n",
       "      <td>Ewallet</td>\n",
       "      <td>766.00</td>\n",
       "      <td>4.761905</td>\n",
       "      <td>38.3000</td>\n",
       "      <td>6.0</td>\n",
       "      <td>3</td>\n",
       "      <td>Thursday</td>\n",
       "      <td>1</td>\n",
       "      <td>18</td>\n",
       "      <td>10</td>\n",
       "    </tr>\n",
       "    <tr>\n",
       "      <th>994</th>\n",
       "      <td>2019-02-18</td>\n",
       "      <td>652-49-6720</td>\n",
       "      <td>C</td>\n",
       "      <td>Naypyitaw</td>\n",
       "      <td>Member</td>\n",
       "      <td>Female</td>\n",
       "      <td>Electronic accessories</td>\n",
       "      <td>60.95</td>\n",
       "      <td>1</td>\n",
       "      <td>3.0475</td>\n",
       "      <td>...</td>\n",
       "      <td>Ewallet</td>\n",
       "      <td>60.95</td>\n",
       "      <td>4.761905</td>\n",
       "      <td>3.0475</td>\n",
       "      <td>5.9</td>\n",
       "      <td>0</td>\n",
       "      <td>Monday</td>\n",
       "      <td>2</td>\n",
       "      <td>11</td>\n",
       "      <td>40</td>\n",
       "    </tr>\n",
       "    <tr>\n",
       "      <th>996</th>\n",
       "      <td>2019-03-02</td>\n",
       "      <td>303-96-2227</td>\n",
       "      <td>B</td>\n",
       "      <td>Mandalay</td>\n",
       "      <td>Normal</td>\n",
       "      <td>Female</td>\n",
       "      <td>Home and lifestyle</td>\n",
       "      <td>97.38</td>\n",
       "      <td>10</td>\n",
       "      <td>48.6900</td>\n",
       "      <td>...</td>\n",
       "      <td>Ewallet</td>\n",
       "      <td>973.80</td>\n",
       "      <td>4.761905</td>\n",
       "      <td>48.6900</td>\n",
       "      <td>4.4</td>\n",
       "      <td>5</td>\n",
       "      <td>Saturday</td>\n",
       "      <td>3</td>\n",
       "      <td>17</td>\n",
       "      <td>16</td>\n",
       "    </tr>\n",
       "    <tr>\n",
       "      <th>999</th>\n",
       "      <td>2019-02-18</td>\n",
       "      <td>849-09-3807</td>\n",
       "      <td>A</td>\n",
       "      <td>Yangon</td>\n",
       "      <td>Member</td>\n",
       "      <td>Female</td>\n",
       "      <td>Fashion accessories</td>\n",
       "      <td>88.34</td>\n",
       "      <td>7</td>\n",
       "      <td>30.9190</td>\n",
       "      <td>...</td>\n",
       "      <td>Cash</td>\n",
       "      <td>618.38</td>\n",
       "      <td>4.761905</td>\n",
       "      <td>30.9190</td>\n",
       "      <td>6.6</td>\n",
       "      <td>0</td>\n",
       "      <td>Monday</td>\n",
       "      <td>2</td>\n",
       "      <td>13</td>\n",
       "      <td>28</td>\n",
       "    </tr>\n",
       "  </tbody>\n",
       "</table>\n",
       "<p>501 rows × 22 columns</p>\n",
       "</div>"
      ],
      "text/plain": [
       "          Date   Invoice ID Branch       City Customer type  Gender  \\\n",
       "0   2019-01-05  750-67-8428      A     Yangon        Member  Female   \n",
       "1   2019-03-08  226-31-3081      C  Naypyitaw        Normal  Female   \n",
       "6   2019-02-25  355-53-5943      A     Yangon        Member  Female   \n",
       "7   2019-02-24  315-22-5665      C  Naypyitaw        Normal  Female   \n",
       "8   2019-01-10  665-32-9167      A     Yangon        Member  Female   \n",
       "..         ...          ...    ...        ...           ...     ...   \n",
       "990 2019-03-22  886-18-2897      A     Yangon        Normal  Female   \n",
       "991 2019-01-24  602-16-6955      B   Mandalay        Normal  Female   \n",
       "994 2019-02-18  652-49-6720      C  Naypyitaw        Member  Female   \n",
       "996 2019-03-02  303-96-2227      B   Mandalay        Normal  Female   \n",
       "999 2019-02-18  849-09-3807      A     Yangon        Member  Female   \n",
       "\n",
       "               Product line  Unit price  Quantity   Tax 5%  ...      Payment  \\\n",
       "0         Health and beauty       74.69         7  26.1415  ...      Ewallet   \n",
       "1    Electronic accessories       15.28         5   3.8200  ...         Cash   \n",
       "6    Electronic accessories       68.84         6  20.6520  ...      Ewallet   \n",
       "7        Home and lifestyle       73.56        10  36.7800  ...      Ewallet   \n",
       "8         Health and beauty       36.26         2   3.6260  ...  Credit card   \n",
       "..                      ...         ...       ...      ...  ...          ...   \n",
       "990      Food and beverages       56.56         5  14.1400  ...  Credit card   \n",
       "991       Sports and travel       76.60        10  38.3000  ...      Ewallet   \n",
       "994  Electronic accessories       60.95         1   3.0475  ...      Ewallet   \n",
       "996      Home and lifestyle       97.38        10  48.6900  ...      Ewallet   \n",
       "999     Fashion accessories       88.34         7  30.9190  ...         Cash   \n",
       "\n",
       "       cogs gross_margin_perc  gross_income  Rating  daynumber   weekday  \\\n",
       "0    522.83          4.761905       26.1415     9.1          5  Saturday   \n",
       "1     76.40          4.761905        3.8200     9.6          4    Friday   \n",
       "6    413.04          4.761905       20.6520     5.8          0    Monday   \n",
       "7    735.60          4.761905       36.7800     8.0          6    Sunday   \n",
       "8     72.52          4.761905        3.6260     7.2          3  Thursday   \n",
       "..      ...               ...           ...     ...        ...       ...   \n",
       "990  282.80          4.761905       14.1400     4.5          4    Friday   \n",
       "991  766.00          4.761905       38.3000     6.0          3  Thursday   \n",
       "994   60.95          4.761905        3.0475     5.9          0    Monday   \n",
       "996  973.80          4.761905       48.6900     4.4          5  Saturday   \n",
       "999  618.38          4.761905       30.9190     6.6          0    Monday   \n",
       "\n",
       "     month hour  minute  \n",
       "0        1   13       8  \n",
       "1        3   10      29  \n",
       "6        2   14      36  \n",
       "7        2   11      38  \n",
       "8        1   17      15  \n",
       "..     ...  ...     ...  \n",
       "990      3   19       6  \n",
       "991      1   18      10  \n",
       "994      2   11      40  \n",
       "996      3   17      16  \n",
       "999      2   13      28  \n",
       "\n",
       "[501 rows x 22 columns]"
      ]
     },
     "execution_count": 46,
     "metadata": {},
     "output_type": "execute_result"
    }
   ],
   "source": [
    "r=df[df['Gender']=='Female']\n",
    "r"
   ]
  },
  {
   "cell_type": "code",
   "execution_count": null,
   "id": "a7b9095c",
   "metadata": {},
   "outputs": [],
   "source": []
  },
  {
   "cell_type": "code",
   "execution_count": 47,
   "id": "1f6407c7",
   "metadata": {},
   "outputs": [
    {
     "data": {
      "text/plain": [
       "<AxesSubplot:xlabel='hour', ylabel='Quantity'>"
      ]
     },
     "execution_count": 47,
     "metadata": {},
     "output_type": "execute_result"
    },
    {
     "data": {
      "image/png": "[encoded data removed]",
      "text/plain": [
       "<Figure size 432x288 with 1 Axes>"
      ]
     },
     "metadata": {},
     "output_type": "display_data"
    }
   ],
   "source": [
    "sns.lineplot(x='hour',y='Quantity',data=df) \n",
    "                       #busiest hour of day= no of sales in an hour so we plot the lineplot using hour and sales(Quantity)"
   ]
  },
  {
   "cell_type": "markdown",
   "id": "bab103b6",
   "metadata": {},
   "source": [
    "                #inference: we know that quantity sold by a supermarket in an hour is the sales per hour or busiest hour, more the quantities sold more the busier the hour of the day is, We can clearly see in the trend or lineplot that peak value is at hour 14 means 2pm(evening) in 12 hr format is the busiest of all day. We should focus at 2pm to increase the sales."
   ]
  },
  {
   "cell_type": "markdown",
   "id": "8e075233",
   "metadata": {},
   "source": [
    "##### Which product line should your supermarket focus on?  "
   ]
  },
  {
   "cell_type": "code",
   "execution_count": 48,
   "id": "af5e9139",
   "metadata": {},
   "outputs": [
    {
     "data": {
      "text/plain": [
       "<AxesSubplot:xlabel='Product line', ylabel='Rating'>"
      ]
     },
     "execution_count": 48,
     "metadata": {},
     "output_type": "execute_result"
    },
    {
     "data": {
      "image/png": "[encoded data removed]",
      "text/plain": [
       "<Figure size 1080x288 with 1 Axes>"
      ]
     },
     "metadata": {},
     "output_type": "display_data"
    }
   ],
   "source": [
    "plt.figure(figsize=(15,4))      #defines the figure size of the plot\n",
    "sns.barplot(x='Product line',y='Rating',data=df) #countplot used to plot the visitors count in a particular hour"
   ]
  },
  {
   "cell_type": "markdown",
   "id": "63386eb8",
   "metadata": {},
   "source": [
    "                #inference: Rating is a factor to decide where we need to focus on which product line but here almost every product line has the approx same rating =7 and Food & beverages has only bit high rating 7+ ,Here we can't conclude anything as they are very close."
   ]
  },
  {
   "cell_type": "code",
   "execution_count": 49,
   "id": "fbc367f5",
   "metadata": {},
   "outputs": [
    {
     "data": {
      "text/plain": [
       "<AxesSubplot:xlabel='Product line', ylabel='Quantity'>"
      ]
     },
     "execution_count": 49,
     "metadata": {},
     "output_type": "execute_result"
    },
    {
     "data": {
      "image/png": "[encoded data removed]",
      "text/plain": [
       "<Figure size 1152x288 with 1 Axes>"
      ]
     },
     "metadata": {},
     "output_type": "display_data"
    }
   ],
   "source": [
    "plt.figure(figsize=(16,4))           #defines the figure size of the plot\n",
    "sns.boxplot(x = 'Product line', y = 'Quantity', data = df )\n",
    "                                     #using boxplot here to plot and see the difference in product line with respect to quantity"
   ]
  },
  {
   "cell_type": "markdown",
   "id": "302267bd",
   "metadata": {},
   "source": [
    "                #inference:We already have seen that the ratings of each productline which is nearly 7 so to conclude,here in the boxplot quantity in y axis of two product line are lower from others ,they are 'Food and beverages' and 'Fashion accessories' where it can be seen that the supply is not enough ,so we need to focus on these two productlines and increase the quantity of these products line to maximise our gross income."
   ]
  },
  {
   "cell_type": "markdown",
   "id": "f6ba9df1",
   "metadata": {},
   "source": [
    "#### Which city should be chosen for expansion and what products should be focussed on?"
   ]
  },
  {
   "cell_type": "code",
   "execution_count": 50,
   "id": "91b27f39",
   "metadata": {},
   "outputs": [
    {
     "data": {
      "text/plain": [
       "array(['Yangon', 'Naypyitaw', 'Mandalay'], dtype=object)"
      ]
     },
     "execution_count": 50,
     "metadata": {},
     "output_type": "execute_result"
    }
   ],
   "source": [
    "df.City.unique()                      #unique city in our dataset using unique() from city column "
   ]
  },
  {
   "cell_type": "code",
   "execution_count": 51,
   "id": "19612c5c",
   "metadata": {},
   "outputs": [
    {
     "data": {
      "text/html": [
       "<div>\n",
       "<style scoped>\n",
       "    .dataframe tbody tr th:only-of-type {\n",
       "        vertical-align: middle;\n",
       "    }\n",
       "\n",
       "    .dataframe tbody tr th {\n",
       "        vertical-align: top;\n",
       "    }\n",
       "\n",
       "    .dataframe thead th {\n",
       "        text-align: right;\n",
       "    }\n",
       "</style>\n",
       "<table border=\"1\" class=\"dataframe\">\n",
       "  <thead>\n",
       "    <tr style=\"text-align: right;\">\n",
       "      <th></th>\n",
       "      <th>Unit price</th>\n",
       "      <th>Quantity</th>\n",
       "      <th>Tax 5%</th>\n",
       "      <th>Total</th>\n",
       "      <th>cogs</th>\n",
       "      <th>gross_margin_perc</th>\n",
       "      <th>gross_income</th>\n",
       "      <th>Rating</th>\n",
       "      <th>daynumber</th>\n",
       "      <th>month</th>\n",
       "      <th>hour</th>\n",
       "      <th>minute</th>\n",
       "    </tr>\n",
       "    <tr>\n",
       "      <th>City</th>\n",
       "      <th></th>\n",
       "      <th></th>\n",
       "      <th></th>\n",
       "      <th></th>\n",
       "      <th></th>\n",
       "      <th></th>\n",
       "      <th></th>\n",
       "      <th></th>\n",
       "      <th></th>\n",
       "      <th></th>\n",
       "      <th></th>\n",
       "      <th></th>\n",
       "    </tr>\n",
       "  </thead>\n",
       "  <tbody>\n",
       "    <tr>\n",
       "      <th>Mandalay</th>\n",
       "      <td>55.659277</td>\n",
       "      <td>5.481928</td>\n",
       "      <td>15.232024</td>\n",
       "      <td>319.872506</td>\n",
       "      <td>304.640482</td>\n",
       "      <td>4.761905</td>\n",
       "      <td>15.232024</td>\n",
       "      <td>6.818072</td>\n",
       "      <td>3.009036</td>\n",
       "      <td>2.003012</td>\n",
       "      <td>15.147590</td>\n",
       "      <td>31.403614</td>\n",
       "    </tr>\n",
       "    <tr>\n",
       "      <th>Naypyitaw</th>\n",
       "      <td>56.609024</td>\n",
       "      <td>5.582317</td>\n",
       "      <td>16.052367</td>\n",
       "      <td>337.099715</td>\n",
       "      <td>321.047348</td>\n",
       "      <td>4.761905</td>\n",
       "      <td>16.052367</td>\n",
       "      <td>7.072866</td>\n",
       "      <td>3.036585</td>\n",
       "      <td>1.951220</td>\n",
       "      <td>14.920732</td>\n",
       "      <td>30.243902</td>\n",
       "    </tr>\n",
       "    <tr>\n",
       "      <th>Yangon</th>\n",
       "      <td>54.780853</td>\n",
       "      <td>5.467647</td>\n",
       "      <td>14.874001</td>\n",
       "      <td>312.354031</td>\n",
       "      <td>297.480029</td>\n",
       "      <td>4.761905</td>\n",
       "      <td>14.874001</td>\n",
       "      <td>7.027059</td>\n",
       "      <td>3.050000</td>\n",
       "      <td>2.023529</td>\n",
       "      <td>14.667647</td>\n",
       "      <td>28.682353</td>\n",
       "    </tr>\n",
       "  </tbody>\n",
       "</table>\n",
       "</div>"
      ],
      "text/plain": [
       "           Unit price  Quantity     Tax 5%       Total        cogs  \\\n",
       "City                                                                 \n",
       "Mandalay    55.659277  5.481928  15.232024  319.872506  304.640482   \n",
       "Naypyitaw   56.609024  5.582317  16.052367  337.099715  321.047348   \n",
       "Yangon      54.780853  5.467647  14.874001  312.354031  297.480029   \n",
       "\n",
       "           gross_margin_perc  gross_income    Rating  daynumber     month  \\\n",
       "City                                                                        \n",
       "Mandalay            4.761905     15.232024  6.818072   3.009036  2.003012   \n",
       "Naypyitaw           4.761905     16.052367  7.072866   3.036585  1.951220   \n",
       "Yangon              4.761905     14.874001  7.027059   3.050000  2.023529   \n",
       "\n",
       "                hour     minute  \n",
       "City                             \n",
       "Mandalay   15.147590  31.403614  \n",
       "Naypyitaw  14.920732  30.243902  \n",
       "Yangon     14.667647  28.682353  "
      ]
     },
     "execution_count": 51,
     "metadata": {},
     "output_type": "execute_result"
    }
   ],
   "source": [
    "location= df.groupby('City').mean()   \n",
    "                  #we need to calculate average of total of a product line using groupby in city column and store it as location\n",
    "location          #prints the dataframe with the average of each column value by grouping in city"
   ]
  },
  {
   "cell_type": "code",
   "execution_count": 52,
   "id": "0e33a23f",
   "metadata": {},
   "outputs": [
    {
     "data": {
      "text/plain": [
       "<AxesSubplot:xlabel='City', ylabel='gross_income'>"
      ]
     },
     "execution_count": 52,
     "metadata": {},
     "output_type": "execute_result"
    },
    {
     "data": {
      "image/png": "[encoded data removed]",
      "text/plain": [
       "<Figure size 720x432 with 1 Axes>"
      ]
     },
     "metadata": {},
     "output_type": "display_data"
    }
   ],
   "source": [
    "plt.figure(figsize=(10, 6))        #defines figure size in plots\n",
    "sns.barplot(x = location.index, y = 'gross_income', data = location)\n",
    "                                   #using barplot to see the average total of each city fetching from the location dataframe"
   ]
  },
  {
   "cell_type": "markdown",
   "id": "1c09991a",
   "metadata": {},
   "source": [
    "                  #inference:It is clear from the barplot that our city named 'Naypyitaw' has the highest gross income touched to average 16,hence this city should be chosen for expansion of the bsuiness as this will increase our profit."
   ]
  },
  {
   "cell_type": "code",
   "execution_count": 53,
   "id": "71bda738",
   "metadata": {},
   "outputs": [
    {
     "data": {
      "text/plain": [
       "<AxesSubplot:xlabel='count', ylabel='Product line'>"
      ]
     },
     "execution_count": 53,
     "metadata": {},
     "output_type": "execute_result"
    },
    {
     "data": {
      "image/png": "[encoded data removed]",
      "text/plain": [
       "<Figure size 432x432 with 1 Axes>"
      ]
     },
     "metadata": {},
     "output_type": "display_data"
    }
   ],
   "source": [
    "plt.figure(figsize=(6,6))            #defines the figure size of the plots\n",
    "sns.countplot(y ='Product line', hue = \"Gender\", data = df)\n",
    "                                     #countplot used to see the count of product line famous in respective city"
   ]
  },
  {
   "cell_type": "code",
   "execution_count": 54,
   "id": "840b6f7f",
   "metadata": {},
   "outputs": [
    {
     "data": {
      "text/plain": [
       "<AxesSubplot:xlabel='Total', ylabel='Branch'>"
      ]
     },
     "execution_count": 54,
     "metadata": {},
     "output_type": "execute_result"
    },
    {
     "data": {
      "image/png": "[encoded data removed]",
      "text/plain": [
       "<Figure size 1440x720 with 1 Axes>"
      ]
     },
     "metadata": {},
     "output_type": "display_data"
    }
   ],
   "source": [
    "plt.figure(figsize=(20,10))\n",
    "sns.barplot(x ='Total',y='Branch', data = df)"
   ]
  },
  {
   "cell_type": "code",
   "execution_count": 55,
   "id": "39ff815e",
   "metadata": {},
   "outputs": [
    {
     "data": {
      "text/html": [
       "<div>\n",
       "<style scoped>\n",
       "    .dataframe tbody tr th:only-of-type {\n",
       "        vertical-align: middle;\n",
       "    }\n",
       "\n",
       "    .dataframe tbody tr th {\n",
       "        vertical-align: top;\n",
       "    }\n",
       "\n",
       "    .dataframe thead th {\n",
       "        text-align: right;\n",
       "    }\n",
       "</style>\n",
       "<table border=\"1\" class=\"dataframe\">\n",
       "  <thead>\n",
       "    <tr style=\"text-align: right;\">\n",
       "      <th></th>\n",
       "      <th>Unit price</th>\n",
       "      <th>Quantity</th>\n",
       "      <th>Tax 5%</th>\n",
       "      <th>Total</th>\n",
       "      <th>cogs</th>\n",
       "      <th>gross_margin_perc</th>\n",
       "      <th>gross_income</th>\n",
       "      <th>Rating</th>\n",
       "      <th>daynumber</th>\n",
       "      <th>month</th>\n",
       "      <th>hour</th>\n",
       "      <th>minute</th>\n",
       "    </tr>\n",
       "    <tr>\n",
       "      <th>Branch</th>\n",
       "      <th></th>\n",
       "      <th></th>\n",
       "      <th></th>\n",
       "      <th></th>\n",
       "      <th></th>\n",
       "      <th></th>\n",
       "      <th></th>\n",
       "      <th></th>\n",
       "      <th></th>\n",
       "      <th></th>\n",
       "      <th></th>\n",
       "      <th></th>\n",
       "    </tr>\n",
       "  </thead>\n",
       "  <tbody>\n",
       "    <tr>\n",
       "      <th>A</th>\n",
       "      <td>18625.49</td>\n",
       "      <td>1859</td>\n",
       "      <td>5057.1605</td>\n",
       "      <td>106200.3705</td>\n",
       "      <td>101143.21</td>\n",
       "      <td>1619.047619</td>\n",
       "      <td>5057.1605</td>\n",
       "      <td>2389.2</td>\n",
       "      <td>1037</td>\n",
       "      <td>688</td>\n",
       "      <td>4987</td>\n",
       "      <td>9752</td>\n",
       "    </tr>\n",
       "    <tr>\n",
       "      <th>B</th>\n",
       "      <td>18478.88</td>\n",
       "      <td>1820</td>\n",
       "      <td>5057.0320</td>\n",
       "      <td>106197.6720</td>\n",
       "      <td>101140.64</td>\n",
       "      <td>1580.952381</td>\n",
       "      <td>5057.0320</td>\n",
       "      <td>2263.6</td>\n",
       "      <td>999</td>\n",
       "      <td>665</td>\n",
       "      <td>5029</td>\n",
       "      <td>10426</td>\n",
       "    </tr>\n",
       "    <tr>\n",
       "      <th>C</th>\n",
       "      <td>18567.76</td>\n",
       "      <td>1831</td>\n",
       "      <td>5265.1765</td>\n",
       "      <td>110568.7065</td>\n",
       "      <td>105303.53</td>\n",
       "      <td>1561.904762</td>\n",
       "      <td>5265.1765</td>\n",
       "      <td>2319.9</td>\n",
       "      <td>996</td>\n",
       "      <td>640</td>\n",
       "      <td>4894</td>\n",
       "      <td>9920</td>\n",
       "    </tr>\n",
       "  </tbody>\n",
       "</table>\n",
       "</div>"
      ],
      "text/plain": [
       "        Unit price  Quantity     Tax 5%        Total       cogs  \\\n",
       "Branch                                                            \n",
       "A         18625.49      1859  5057.1605  106200.3705  101143.21   \n",
       "B         18478.88      1820  5057.0320  106197.6720  101140.64   \n",
       "C         18567.76      1831  5265.1765  110568.7065  105303.53   \n",
       "\n",
       "        gross_margin_perc  gross_income  Rating  daynumber  month  hour  \\\n",
       "Branch                                                                    \n",
       "A             1619.047619     5057.1605  2389.2       1037    688  4987   \n",
       "B             1580.952381     5057.0320  2263.6        999    665  5029   \n",
       "C             1561.904762     5265.1765  2319.9        996    640  4894   \n",
       "\n",
       "        minute  \n",
       "Branch          \n",
       "A         9752  \n",
       "B        10426  \n",
       "C         9920  "
      ]
     },
     "execution_count": 55,
     "metadata": {},
     "output_type": "execute_result"
    }
   ],
   "source": [
    "location= df.groupby('Branch').sum()   \n",
    "                  #we need to calculate average of total of a product line using groupby in city column and store it as location\n",
    "location   "
   ]
  },
  {
   "cell_type": "code",
   "execution_count": 56,
   "id": "9b1dca6c",
   "metadata": {},
   "outputs": [
    {
     "data": {
      "text/plain": [
       "0.34235288653569274"
      ]
     },
     "execution_count": 56,
     "metadata": {},
     "output_type": "execute_result"
    }
   ],
   "source": [
    "110568/(110568+106200+106197)"
   ]
  },
  {
   "cell_type": "code",
   "execution_count": 57,
   "id": "09871b92",
   "metadata": {},
   "outputs": [
    {
     "data": {
      "text/plain": [
       "<AxesSubplot:xlabel='count', ylabel='Gender'>"
      ]
     },
     "execution_count": 57,
     "metadata": {},
     "output_type": "execute_result"
    },
    {
     "data": {
      "image/png": "[encoded data removed]",
      "text/plain": [
       "<Figure size 432x288 with 1 Axes>"
      ]
     },
     "metadata": {},
     "output_type": "display_data"
    }
   ],
   "source": [
    "sns.countplot(y ='Gender', data = df)"
   ]
  },
  {
   "cell_type": "code",
   "execution_count": 58,
   "id": "43519ca0",
   "metadata": {},
   "outputs": [
    {
     "data": {
      "text/html": [
       "<div>\n",
       "<style scoped>\n",
       "    .dataframe tbody tr th:only-of-type {\n",
       "        vertical-align: middle;\n",
       "    }\n",
       "\n",
       "    .dataframe tbody tr th {\n",
       "        vertical-align: top;\n",
       "    }\n",
       "\n",
       "    .dataframe thead th {\n",
       "        text-align: right;\n",
       "    }\n",
       "</style>\n",
       "<table border=\"1\" class=\"dataframe\">\n",
       "  <thead>\n",
       "    <tr style=\"text-align: right;\">\n",
       "      <th></th>\n",
       "      <th>Date</th>\n",
       "      <th>Invoice ID</th>\n",
       "      <th>Branch</th>\n",
       "      <th>City</th>\n",
       "      <th>Customer type</th>\n",
       "      <th>Gender</th>\n",
       "      <th>Product line</th>\n",
       "      <th>Unit price</th>\n",
       "      <th>Quantity</th>\n",
       "      <th>Tax 5%</th>\n",
       "      <th>...</th>\n",
       "      <th>Payment</th>\n",
       "      <th>cogs</th>\n",
       "      <th>gross_margin_perc</th>\n",
       "      <th>gross_income</th>\n",
       "      <th>Rating</th>\n",
       "      <th>daynumber</th>\n",
       "      <th>weekday</th>\n",
       "      <th>month</th>\n",
       "      <th>hour</th>\n",
       "      <th>minute</th>\n",
       "    </tr>\n",
       "  </thead>\n",
       "  <tbody>\n",
       "    <tr>\n",
       "      <th>0</th>\n",
       "      <td>2019-01-05</td>\n",
       "      <td>750-67-8428</td>\n",
       "      <td>A</td>\n",
       "      <td>Yangon</td>\n",
       "      <td>Member</td>\n",
       "      <td>Female</td>\n",
       "      <td>Health and beauty</td>\n",
       "      <td>74.69</td>\n",
       "      <td>7</td>\n",
       "      <td>26.1415</td>\n",
       "      <td>...</td>\n",
       "      <td>Ewallet</td>\n",
       "      <td>522.83</td>\n",
       "      <td>4.761905</td>\n",
       "      <td>26.1415</td>\n",
       "      <td>9.1</td>\n",
       "      <td>5</td>\n",
       "      <td>Saturday</td>\n",
       "      <td>1</td>\n",
       "      <td>13</td>\n",
       "      <td>8</td>\n",
       "    </tr>\n",
       "    <tr>\n",
       "      <th>1</th>\n",
       "      <td>2019-03-08</td>\n",
       "      <td>226-31-3081</td>\n",
       "      <td>C</td>\n",
       "      <td>Naypyitaw</td>\n",
       "      <td>Normal</td>\n",
       "      <td>Female</td>\n",
       "      <td>Electronic accessories</td>\n",
       "      <td>15.28</td>\n",
       "      <td>5</td>\n",
       "      <td>3.8200</td>\n",
       "      <td>...</td>\n",
       "      <td>Cash</td>\n",
       "      <td>76.40</td>\n",
       "      <td>4.761905</td>\n",
       "      <td>3.8200</td>\n",
       "      <td>9.6</td>\n",
       "      <td>4</td>\n",
       "      <td>Friday</td>\n",
       "      <td>3</td>\n",
       "      <td>10</td>\n",
       "      <td>29</td>\n",
       "    </tr>\n",
       "    <tr>\n",
       "      <th>2</th>\n",
       "      <td>2019-03-03</td>\n",
       "      <td>631-41-3108</td>\n",
       "      <td>A</td>\n",
       "      <td>Yangon</td>\n",
       "      <td>Normal</td>\n",
       "      <td>Male</td>\n",
       "      <td>Home and lifestyle</td>\n",
       "      <td>46.33</td>\n",
       "      <td>7</td>\n",
       "      <td>16.2155</td>\n",
       "      <td>...</td>\n",
       "      <td>Credit card</td>\n",
       "      <td>324.31</td>\n",
       "      <td>4.761905</td>\n",
       "      <td>16.2155</td>\n",
       "      <td>7.4</td>\n",
       "      <td>6</td>\n",
       "      <td>Sunday</td>\n",
       "      <td>3</td>\n",
       "      <td>13</td>\n",
       "      <td>23</td>\n",
       "    </tr>\n",
       "    <tr>\n",
       "      <th>3</th>\n",
       "      <td>2019-01-27</td>\n",
       "      <td>123-19-1176</td>\n",
       "      <td>A</td>\n",
       "      <td>Yangon</td>\n",
       "      <td>Member</td>\n",
       "      <td>Male</td>\n",
       "      <td>Health and beauty</td>\n",
       "      <td>58.22</td>\n",
       "      <td>8</td>\n",
       "      <td>23.2880</td>\n",
       "      <td>...</td>\n",
       "      <td>Ewallet</td>\n",
       "      <td>465.76</td>\n",
       "      <td>4.761905</td>\n",
       "      <td>23.2880</td>\n",
       "      <td>8.4</td>\n",
       "      <td>6</td>\n",
       "      <td>Sunday</td>\n",
       "      <td>1</td>\n",
       "      <td>20</td>\n",
       "      <td>33</td>\n",
       "    </tr>\n",
       "    <tr>\n",
       "      <th>4</th>\n",
       "      <td>2019-02-08</td>\n",
       "      <td>373-73-7910</td>\n",
       "      <td>A</td>\n",
       "      <td>Yangon</td>\n",
       "      <td>Normal</td>\n",
       "      <td>Male</td>\n",
       "      <td>Sports and travel</td>\n",
       "      <td>86.31</td>\n",
       "      <td>7</td>\n",
       "      <td>30.2085</td>\n",
       "      <td>...</td>\n",
       "      <td>Ewallet</td>\n",
       "      <td>604.17</td>\n",
       "      <td>4.761905</td>\n",
       "      <td>30.2085</td>\n",
       "      <td>5.3</td>\n",
       "      <td>4</td>\n",
       "      <td>Friday</td>\n",
       "      <td>2</td>\n",
       "      <td>10</td>\n",
       "      <td>37</td>\n",
       "    </tr>\n",
       "    <tr>\n",
       "      <th>...</th>\n",
       "      <td>...</td>\n",
       "      <td>...</td>\n",
       "      <td>...</td>\n",
       "      <td>...</td>\n",
       "      <td>...</td>\n",
       "      <td>...</td>\n",
       "      <td>...</td>\n",
       "      <td>...</td>\n",
       "      <td>...</td>\n",
       "      <td>...</td>\n",
       "      <td>...</td>\n",
       "      <td>...</td>\n",
       "      <td>...</td>\n",
       "      <td>...</td>\n",
       "      <td>...</td>\n",
       "      <td>...</td>\n",
       "      <td>...</td>\n",
       "      <td>...</td>\n",
       "      <td>...</td>\n",
       "      <td>...</td>\n",
       "      <td>...</td>\n",
       "    </tr>\n",
       "    <tr>\n",
       "      <th>995</th>\n",
       "      <td>2019-01-29</td>\n",
       "      <td>233-67-5758</td>\n",
       "      <td>C</td>\n",
       "      <td>Naypyitaw</td>\n",
       "      <td>Normal</td>\n",
       "      <td>Male</td>\n",
       "      <td>Health and beauty</td>\n",
       "      <td>40.35</td>\n",
       "      <td>1</td>\n",
       "      <td>2.0175</td>\n",
       "      <td>...</td>\n",
       "      <td>Ewallet</td>\n",
       "      <td>40.35</td>\n",
       "      <td>4.761905</td>\n",
       "      <td>2.0175</td>\n",
       "      <td>6.2</td>\n",
       "      <td>1</td>\n",
       "      <td>Tuesday</td>\n",
       "      <td>1</td>\n",
       "      <td>13</td>\n",
       "      <td>46</td>\n",
       "    </tr>\n",
       "    <tr>\n",
       "      <th>996</th>\n",
       "      <td>2019-03-02</td>\n",
       "      <td>303-96-2227</td>\n",
       "      <td>B</td>\n",
       "      <td>Mandalay</td>\n",
       "      <td>Normal</td>\n",
       "      <td>Female</td>\n",
       "      <td>Home and lifestyle</td>\n",
       "      <td>97.38</td>\n",
       "      <td>10</td>\n",
       "      <td>48.6900</td>\n",
       "      <td>...</td>\n",
       "      <td>Ewallet</td>\n",
       "      <td>973.80</td>\n",
       "      <td>4.761905</td>\n",
       "      <td>48.6900</td>\n",
       "      <td>4.4</td>\n",
       "      <td>5</td>\n",
       "      <td>Saturday</td>\n",
       "      <td>3</td>\n",
       "      <td>17</td>\n",
       "      <td>16</td>\n",
       "    </tr>\n",
       "    <tr>\n",
       "      <th>997</th>\n",
       "      <td>2019-02-09</td>\n",
       "      <td>727-02-1313</td>\n",
       "      <td>A</td>\n",
       "      <td>Yangon</td>\n",
       "      <td>Member</td>\n",
       "      <td>Male</td>\n",
       "      <td>Food and beverages</td>\n",
       "      <td>31.84</td>\n",
       "      <td>1</td>\n",
       "      <td>1.5920</td>\n",
       "      <td>...</td>\n",
       "      <td>Cash</td>\n",
       "      <td>31.84</td>\n",
       "      <td>4.761905</td>\n",
       "      <td>1.5920</td>\n",
       "      <td>7.7</td>\n",
       "      <td>5</td>\n",
       "      <td>Saturday</td>\n",
       "      <td>2</td>\n",
       "      <td>13</td>\n",
       "      <td>22</td>\n",
       "    </tr>\n",
       "    <tr>\n",
       "      <th>998</th>\n",
       "      <td>2019-02-22</td>\n",
       "      <td>347-56-2442</td>\n",
       "      <td>A</td>\n",
       "      <td>Yangon</td>\n",
       "      <td>Normal</td>\n",
       "      <td>Male</td>\n",
       "      <td>Home and lifestyle</td>\n",
       "      <td>65.82</td>\n",
       "      <td>1</td>\n",
       "      <td>3.2910</td>\n",
       "      <td>...</td>\n",
       "      <td>Cash</td>\n",
       "      <td>65.82</td>\n",
       "      <td>4.761905</td>\n",
       "      <td>3.2910</td>\n",
       "      <td>4.1</td>\n",
       "      <td>4</td>\n",
       "      <td>Friday</td>\n",
       "      <td>2</td>\n",
       "      <td>15</td>\n",
       "      <td>33</td>\n",
       "    </tr>\n",
       "    <tr>\n",
       "      <th>999</th>\n",
       "      <td>2019-02-18</td>\n",
       "      <td>849-09-3807</td>\n",
       "      <td>A</td>\n",
       "      <td>Yangon</td>\n",
       "      <td>Member</td>\n",
       "      <td>Female</td>\n",
       "      <td>Fashion accessories</td>\n",
       "      <td>88.34</td>\n",
       "      <td>7</td>\n",
       "      <td>30.9190</td>\n",
       "      <td>...</td>\n",
       "      <td>Cash</td>\n",
       "      <td>618.38</td>\n",
       "      <td>4.761905</td>\n",
       "      <td>30.9190</td>\n",
       "      <td>6.6</td>\n",
       "      <td>0</td>\n",
       "      <td>Monday</td>\n",
       "      <td>2</td>\n",
       "      <td>13</td>\n",
       "      <td>28</td>\n",
       "    </tr>\n",
       "  </tbody>\n",
       "</table>\n",
       "<p>1000 rows × 22 columns</p>\n",
       "</div>"
      ],
      "text/plain": [
       "          Date   Invoice ID Branch       City Customer type  Gender  \\\n",
       "0   2019-01-05  750-67-8428      A     Yangon        Member  Female   \n",
       "1   2019-03-08  226-31-3081      C  Naypyitaw        Normal  Female   \n",
       "2   2019-03-03  631-41-3108      A     Yangon        Normal    Male   \n",
       "3   2019-01-27  123-19-1176      A     Yangon        Member    Male   \n",
       "4   2019-02-08  373-73-7910      A     Yangon        Normal    Male   \n",
       "..         ...          ...    ...        ...           ...     ...   \n",
       "995 2019-01-29  233-67-5758      C  Naypyitaw        Normal    Male   \n",
       "996 2019-03-02  303-96-2227      B   Mandalay        Normal  Female   \n",
       "997 2019-02-09  727-02-1313      A     Yangon        Member    Male   \n",
       "998 2019-02-22  347-56-2442      A     Yangon        Normal    Male   \n",
       "999 2019-02-18  849-09-3807      A     Yangon        Member  Female   \n",
       "\n",
       "               Product line  Unit price  Quantity   Tax 5%  ...      Payment  \\\n",
       "0         Health and beauty       74.69         7  26.1415  ...      Ewallet   \n",
       "1    Electronic accessories       15.28         5   3.8200  ...         Cash   \n",
       "2        Home and lifestyle       46.33         7  16.2155  ...  Credit card   \n",
       "3         Health and beauty       58.22         8  23.2880  ...      Ewallet   \n",
       "4         Sports and travel       86.31         7  30.2085  ...      Ewallet   \n",
       "..                      ...         ...       ...      ...  ...          ...   \n",
       "995       Health and beauty       40.35         1   2.0175  ...      Ewallet   \n",
       "996      Home and lifestyle       97.38        10  48.6900  ...      Ewallet   \n",
       "997      Food and beverages       31.84         1   1.5920  ...         Cash   \n",
       "998      Home and lifestyle       65.82         1   3.2910  ...         Cash   \n",
       "999     Fashion accessories       88.34         7  30.9190  ...         Cash   \n",
       "\n",
       "       cogs gross_margin_perc  gross_income  Rating  daynumber   weekday  \\\n",
       "0    522.83          4.761905       26.1415     9.1          5  Saturday   \n",
       "1     76.40          4.761905        3.8200     9.6          4    Friday   \n",
       "2    324.31          4.761905       16.2155     7.4          6    Sunday   \n",
       "3    465.76          4.761905       23.2880     8.4          6    Sunday   \n",
       "4    604.17          4.761905       30.2085     5.3          4    Friday   \n",
       "..      ...               ...           ...     ...        ...       ...   \n",
       "995   40.35          4.761905        2.0175     6.2          1   Tuesday   \n",
       "996  973.80          4.761905       48.6900     4.4          5  Saturday   \n",
       "997   31.84          4.761905        1.5920     7.7          5  Saturday   \n",
       "998   65.82          4.761905        3.2910     4.1          4    Friday   \n",
       "999  618.38          4.761905       30.9190     6.6          0    Monday   \n",
       "\n",
       "     month hour  minute  \n",
       "0        1   13       8  \n",
       "1        3   10      29  \n",
       "2        3   13      23  \n",
       "3        1   20      33  \n",
       "4        2   10      37  \n",
       "..     ...  ...     ...  \n",
       "995      1   13      46  \n",
       "996      3   17      16  \n",
       "997      2   13      22  \n",
       "998      2   15      33  \n",
       "999      2   13      28  \n",
       "\n",
       "[1000 rows x 22 columns]"
      ]
     },
     "execution_count": 58,
     "metadata": {},
     "output_type": "execute_result"
    }
   ],
   "source": [
    "df"
   ]
  },
  {
   "cell_type": "markdown",
   "id": "8bf4c9c5",
   "metadata": {},
   "source": [
    "                  #inference:Now we already have our city for expansion i.e 'Naypyitaw' because of higher average gross income from there ,in this countplot graph in the yaxis graph 'Food and beverages' is most demanded and customers buy this product is maximum in this city ,so to increase our gross income we need to focus on this product line from the 'Naypyitaw' city. we also had to look up for 'Fashion accessories' as our second most demanded product fro this city."
   ]
  }
 ],
 "metadata": {
  "kernelspec": {
   "display_name": "Python 3",
   "language": "python",
   "name": "python3"
  },
  "language_info": {
   "codemirror_mode": {
    "name": "ipython",
    "version": 3
   },
   "file_extension": ".py",
   "mimetype": "text/x-python",
   "name": "python",
   "nbconvert_exporter": "python",
   "pygments_lexer": "ipython3",
   "version": "3.8.8"
  }
 },
 "nbformat": 4,
 "nbformat_minor": 5
}
